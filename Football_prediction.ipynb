{
 "cells": [
  {
   "cell_type": "code",
   "execution_count": 1,
   "metadata": {
    "collapsed": true
   },
   "outputs": [],
   "source": [
    "import pandas as pd\n",
    "data = pd.read_excel('/Users/admin/Desktop/Football_db/APL_last_data.xlsx', sheetname = 'out_all_APL')"
   ]
  },
  {
   "cell_type": "code",
   "execution_count": 1,
   "metadata": {
    "collapsed": true
   },
   "outputs": [],
   "source": [
    "import warnings\n",
    "warnings.filterwarnings('ignore')\n",
    "%matplotlib inline\n",
    "import matplotlib.pyplot as plt\n",
    "from matplotlib import pylab\n",
    "import pandas as pd"
   ]
  },
  {
   "cell_type": "code",
   "execution_count": 2,
   "metadata": {
    "collapsed": false
   },
   "outputs": [],
   "source": [
    "data_1 = pd.read_excel('/Users/admin/Desktop/Football_db/APL_last_data2.xlsx', sheetname = 'out_all_APL')"
   ]
  },
  {
   "cell_type": "code",
   "execution_count": 4,
   "metadata": {
    "collapsed": false
   },
   "outputs": [
    {
     "data": {
      "text/html": [
       "<div>\n",
       "<table border=\"1\" class=\"dataframe\">\n",
       "  <thead>\n",
       "    <tr style=\"text-align: right;\">\n",
       "      <th></th>\n",
       "      <th>id</th>\n",
       "      <th>season</th>\n",
       "      <th>stage</th>\n",
       "      <th>home_team_goal</th>\n",
       "      <th>away_team_goal</th>\n",
       "      <th>Goal_diff</th>\n",
       "      <th>Home_team_points</th>\n",
       "      <th>Away_team_points</th>\n",
       "      <th>Total_H_points</th>\n",
       "      <th>Total_A_points</th>\n",
       "      <th>...</th>\n",
       "      <th>Defense_a</th>\n",
       "      <th>Mid_a</th>\n",
       "      <th>Attack_a</th>\n",
       "      <th>B365H</th>\n",
       "      <th>B365D</th>\n",
       "      <th>B365A</th>\n",
       "      <th>BWH</th>\n",
       "      <th>BWD</th>\n",
       "      <th>BWA</th>\n",
       "      <th>Class</th>\n",
       "    </tr>\n",
       "  </thead>\n",
       "  <tbody>\n",
       "    <tr>\n",
       "      <th>0</th>\n",
       "      <td>1730</td>\n",
       "      <td>2008/2009</td>\n",
       "      <td>1</td>\n",
       "      <td>1</td>\n",
       "      <td>0</td>\n",
       "      <td>1</td>\n",
       "      <td>3</td>\n",
       "      <td>0</td>\n",
       "      <td>3</td>\n",
       "      <td>0</td>\n",
       "      <td>...</td>\n",
       "      <td>69.75</td>\n",
       "      <td>70.00</td>\n",
       "      <td>68.0</td>\n",
       "      <td>1.20</td>\n",
       "      <td>6.5</td>\n",
       "      <td>15.00</td>\n",
       "      <td>1.22</td>\n",
       "      <td>5.5</td>\n",
       "      <td>10</td>\n",
       "      <td>1</td>\n",
       "    </tr>\n",
       "    <tr>\n",
       "      <th>1</th>\n",
       "      <td>1731</td>\n",
       "      <td>2008/2009</td>\n",
       "      <td>1</td>\n",
       "      <td>0</td>\n",
       "      <td>1</td>\n",
       "      <td>-1</td>\n",
       "      <td>0</td>\n",
       "      <td>3</td>\n",
       "      <td>0</td>\n",
       "      <td>3</td>\n",
       "      <td>...</td>\n",
       "      <td>79.25</td>\n",
       "      <td>79.00</td>\n",
       "      <td>85.5</td>\n",
       "      <td>5.50</td>\n",
       "      <td>3.6</td>\n",
       "      <td>1.67</td>\n",
       "      <td>5</td>\n",
       "      <td>3.35</td>\n",
       "      <td>1.67</td>\n",
       "      <td>-1</td>\n",
       "    </tr>\n",
       "    <tr>\n",
       "      <th>2</th>\n",
       "      <td>1732</td>\n",
       "      <td>2008/2009</td>\n",
       "      <td>1</td>\n",
       "      <td>2</td>\n",
       "      <td>1</td>\n",
       "      <td>1</td>\n",
       "      <td>3</td>\n",
       "      <td>0</td>\n",
       "      <td>3</td>\n",
       "      <td>0</td>\n",
       "      <td>...</td>\n",
       "      <td>71.25</td>\n",
       "      <td>71.50</td>\n",
       "      <td>74.0</td>\n",
       "      <td>1.91</td>\n",
       "      <td>3.4</td>\n",
       "      <td>4.20</td>\n",
       "      <td>1.9</td>\n",
       "      <td>3.2</td>\n",
       "      <td>3.8</td>\n",
       "      <td>1</td>\n",
       "    </tr>\n",
       "    <tr>\n",
       "      <th>3</th>\n",
       "      <td>1734</td>\n",
       "      <td>2008/2009</td>\n",
       "      <td>1</td>\n",
       "      <td>2</td>\n",
       "      <td>3</td>\n",
       "      <td>-1</td>\n",
       "      <td>0</td>\n",
       "      <td>3</td>\n",
       "      <td>0</td>\n",
       "      <td>3</td>\n",
       "      <td>...</td>\n",
       "      <td>76.25</td>\n",
       "      <td>75.75</td>\n",
       "      <td>78.5</td>\n",
       "      <td>2.00</td>\n",
       "      <td>3.3</td>\n",
       "      <td>4.00</td>\n",
       "      <td>1.85</td>\n",
       "      <td>3.25</td>\n",
       "      <td>4</td>\n",
       "      <td>-1</td>\n",
       "    </tr>\n",
       "    <tr>\n",
       "      <th>4</th>\n",
       "      <td>1735</td>\n",
       "      <td>2008/2009</td>\n",
       "      <td>1</td>\n",
       "      <td>2</td>\n",
       "      <td>1</td>\n",
       "      <td>1</td>\n",
       "      <td>3</td>\n",
       "      <td>0</td>\n",
       "      <td>3</td>\n",
       "      <td>0</td>\n",
       "      <td>...</td>\n",
       "      <td>76.25</td>\n",
       "      <td>80.75</td>\n",
       "      <td>78.5</td>\n",
       "      <td>3.20</td>\n",
       "      <td>3.4</td>\n",
       "      <td>2.25</td>\n",
       "      <td>2.8</td>\n",
       "      <td>3.2</td>\n",
       "      <td>2.3</td>\n",
       "      <td>1</td>\n",
       "    </tr>\n",
       "  </tbody>\n",
       "</table>\n",
       "<p>5 rows × 55 columns</p>\n",
       "</div>"
      ],
      "text/plain": [
       "     id     season  stage  home_team_goal  away_team_goal  Goal_diff  \\\n",
       "0  1730  2008/2009      1               1               0          1   \n",
       "1  1731  2008/2009      1               0               1         -1   \n",
       "2  1732  2008/2009      1               2               1          1   \n",
       "3  1734  2008/2009      1               2               3         -1   \n",
       "4  1735  2008/2009      1               2               1          1   \n",
       "\n",
       "    Home_team_points  Away_team_points  Total_H_points  Total_A_points  ...    \\\n",
       "0                  3                 0               3               0  ...     \n",
       "1                  0                 3               0               3  ...     \n",
       "2                  3                 0               3               0  ...     \n",
       "3                  0                 3               0               3  ...     \n",
       "4                  3                 0               3               0  ...     \n",
       "\n",
       "   Defense_a  Mid_a  Attack_a  B365H  B365D  B365A   BWH   BWD   BWA  Class  \n",
       "0      69.75  70.00      68.0   1.20    6.5  15.00  1.22   5.5    10      1  \n",
       "1      79.25  79.00      85.5   5.50    3.6   1.67     5  3.35  1.67     -1  \n",
       "2      71.25  71.50      74.0   1.91    3.4   4.20   1.9   3.2   3.8      1  \n",
       "3      76.25  75.75      78.5   2.00    3.3   4.00  1.85  3.25     4     -1  \n",
       "4      76.25  80.75      78.5   3.20    3.4   2.25   2.8   3.2   2.3      1  \n",
       "\n",
       "[5 rows x 55 columns]"
      ]
     },
     "execution_count": 4,
     "metadata": {},
     "output_type": "execute_result"
    }
   ],
   "source": [
    "data_1.head()"
   ]
  },
  {
   "cell_type": "code",
   "execution_count": 189,
   "metadata": {
    "collapsed": false
   },
   "outputs": [],
   "source": [
    "from sklearn import preprocessing\n",
    "features = data_1[['Last_3_games_at_home',\n",
    "       'Last_3_games_away', 'CL_H', 'CL_A', 'Defense_h', 'Mid_h', 'Attack_h',\n",
    "       'Defense_a', 'Mid_a', 'Attack_a','B365H', 'B365D', 'B365A']].values\n",
    "target = data_1[['Class']].values\n",
    "features = preprocessing.scale(features)\n",
    "c, r = target.shape\n",
    "target = target.reshape(c,)"
   ]
  },
  {
   "cell_type": "markdown",
   "metadata": {},
   "source": [
    "Функция для Confusion_matrix"
   ]
  },
  {
   "cell_type": "code",
   "execution_count": 27,
   "metadata": {
    "collapsed": true
   },
   "outputs": [],
   "source": [
    "import itertools\n",
    "from sklearn.metrics import confusion_matrix\n",
    "def plot_confusion_matrix(cm, classes,\n",
    "                          normalize=False,\n",
    "                          title='Confusion matrix',\n",
    "                          cmap=plt.cm.Blues):\n",
    "    \"\"\"\n",
    "    This function prints and plots the confusion matrix.\n",
    "    Normalization can be applied by setting `normalize=True`.\n",
    "    \"\"\"\n",
    "    plt.imshow(cm, interpolation='nearest', cmap=cmap)\n",
    "    plt.title(title)\n",
    "    plt.colorbar()\n",
    "    tick_marks = np.arange(len(classes))\n",
    "    plt.xticks(tick_marks, classes, rotation=45)\n",
    "    plt.yticks(tick_marks, classes)\n",
    "\n",
    "    if normalize:\n",
    "        cm = cm.astype('float') / cm.sum(axis=1)[:, np.newaxis]\n",
    "        print(\"Normalized confusion matrix\")\n",
    "    else:\n",
    "        print('Confusion matrix, without normalization')\n",
    "\n",
    "    print(cm)\n",
    "\n",
    "    thresh = cm.max() / 2.\n",
    "    for i, j in itertools.product(range(cm.shape[0]), range(cm.shape[1])):\n",
    "        plt.text(j, i, cm[i, j],\n",
    "                 horizontalalignment=\"center\",\n",
    "                 color=\"white\" if cm[i, j] > thresh else \"black\")\n",
    "\n",
    "    plt.tight_layout()\n",
    "    plt.ylabel('True label')\n",
    "    plt.xlabel('Predicted label')"
   ]
  },
  {
   "cell_type": "markdown",
   "metadata": {},
   "source": [
    "# SVM analysis"
   ]
  },
  {
   "cell_type": "markdown",
   "metadata": {},
   "source": [
    "Подбор параметров для Accuracy"
   ]
  },
  {
   "cell_type": "markdown",
   "metadata": {},
   "source": [
    "Scaled: Last 5 games, all odds"
   ]
  },
  {
   "cell_type": "code",
   "execution_count": 20,
   "metadata": {
    "collapsed": false
   },
   "outputs": [
    {
     "name": "stdout",
     "output_type": "stream",
     "text": [
      "rbf for C =  1 accuracy =  0.523794020741\n",
      "rbf for C =  2 accuracy =  0.52076259945\n",
      "rbf for C =  3 accuracy =  0.517386482598\n",
      "rbf for C =  4 accuracy =  0.509277204262\n",
      "linear for C =  1 accuracy =  0.51704920484\n",
      "linear for C =  2 accuracy =  0.51704920484\n",
      "linear for C =  3 accuracy =  0.517387614315\n",
      "linear for C =  4 accuracy =  0.517387614315\n",
      "BEST RESULT rbf for C =  1 accuracy =  0.523794020741\n"
     ]
    }
   ],
   "source": [
    "from sklearn.metrics import accuracy_score\n",
    "from sklearn.svm import SVC\n",
    "from sklearn.cross_validation import cross_val_score\n",
    "from sklearn import preprocessing\n",
    "import numpy as np\n",
    "features = preprocessing.scale(features)\n",
    "kernels = ['rbf', 'linear']\n",
    "def best_params_SVM(C):\n",
    "    best_acc = 0\n",
    "    best_C = 0\n",
    "    best_kernel = 0\n",
    "    for i in kernels:\n",
    "        for j in C:\n",
    "            clf = SVC(C = j, kernel = i, random_state = 6632)\n",
    "            scores = cross_val_score(clf, features, target, cv=5)\n",
    "            if np.mean(scores) > best_acc:\n",
    "                best_acc = np.mean(scores)\n",
    "                best_C = j\n",
    "                best_kernel = i\n",
    "            print(i, 'for C = ', j, 'accuracy = ', np.mean(scores))\n",
    "    print('BEST RESULT', best_kernel, 'for C = ', best_C, 'accuracy = ', best_acc)\n",
    "best_params_SVM(np.arange(1, 5, 1))"
   ]
  },
  {
   "cell_type": "markdown",
   "metadata": {},
   "source": [
    "Построим confusion_matrix:"
   ]
  },
  {
   "cell_type": "code",
   "execution_count": 190,
   "metadata": {
    "collapsed": false
   },
   "outputs": [
    {
     "name": "stdout",
     "output_type": "stream",
     "text": [
      "Accuracy for test sample: 0.546374367622\n",
      "Confusion matrix, without normalization\n",
      "[[ 77   2 102]\n",
      " [ 24   5 112]\n",
      " [ 29   0 242]]\n"
     ]
    },
    {
     "data": {
      "image/png": "[encoded data removed]",
      "text/plain": [
       "<matplotlib.figure.Figure at 0x118d55748>"
      ]
     },
     "metadata": {},
     "output_type": "display_data"
    }
   ],
   "source": [
    "from sklearn.cross_validation import train_test_split\n",
    "features = preprocessing.scale(features)\n",
    "X_train, X_test, y_train, y_test = train_test_split(\n",
    "    features, target, test_size=0.2, random_state=6632)\n",
    "clf = SVC(C = 1, kernel = 'rbf', random_state = 6632) #put optimal params from last code\n",
    "clf.fit(X_train, y_train)\n",
    "print('Accuracy for test sample:', accuracy_score(y_test, clf.predict(X_test)))\n",
    "# Compute confusion matrix\n",
    "cnf_matrix = confusion_matrix(y_test, clf.predict(X_test))\n",
    "np.set_printoptions(precision=2)\n",
    "\n",
    "# Plot non-normalized confusion matrix\n",
    "plt.figure()\n",
    "plot_confusion_matrix(cnf_matrix, classes=['AW', 'DR', 'HW'], title='Confusion matrix, without normalization')\n",
    "plt.savefig('foo.png')"
   ]
  },
  {
   "cell_type": "code",
   "execution_count": 206,
   "metadata": {
    "collapsed": false
   },
   "outputs": [
    {
     "name": "stdout",
     "output_type": "stream",
     "text": [
      "For season 2008/2009 Invested: 174000 Profit 1500.0 ROI 0.00862068965517\n",
      "For season 2009/2010 Invested: 186500 Profit -11840.0 ROI -0.0634852546917\n",
      "For season 2010/2011 Invested: 183500 Profit -22355.0 ROI -0.121825613079\n",
      "For season 2011/2012 Invested: 183500 Profit -22970.0 ROI -0.125177111717\n",
      "For season 2012/2013 Invested: 190000 Profit -14555.0 ROI -0.0766052631579\n",
      "For season 2013/2014 Invested: 189000 Profit 9800.0 ROI 0.0518518518519\n",
      "For season 2014/2015 Invested: 185500 Profit -8860.0 ROI -0.0477628032345\n",
      "For season 2015/2016 Invested: 188500 Profit -27060.0 ROI -0.143554376658\n",
      "SUMMARY Invested: 1480500 Profit: -96340.0 ROI: -0.0650726106045\n"
     ]
    }
   ],
   "source": [
    "seasons = ['2008/2009', '2009/2010', '2010/2011', '2011/2012', '2012/2013', '2013/2014', '2014/2015', '2015/2016']\n",
    "def income_fun():\n",
    "    clf = SVC(C = 1, kernel = 'rbf', random_state = 6632)\n",
    "    all_res = []\n",
    "    invested = []\n",
    "    ROI = []\n",
    "    total = 0\n",
    "    for s in seasons:\n",
    "        data_train = data_1[data_1['season'] != s]\n",
    "        features_train = data_train[['Last_3_games_at_home',\n",
    "       'Last_3_games_away', 'CL_H', 'CL_A', 'Defense_h', 'Mid_h', 'Attack_h',\n",
    "        'Defense_a', 'Mid_a', 'Attack_a','B365H', 'B365D', 'B365A']].values\n",
    "        features_train = preprocessing.scale(features_train)\n",
    "        target_train = data_train[['Class']].values\n",
    "        data_test = data_1[data_1['season'] == s]\n",
    "        features_test = data_test[['Last_3_games_at_home',\n",
    "        'Last_3_games_away', 'CL_H', 'CL_A', 'Defense_h', 'Mid_h', 'Attack_h',\n",
    "        'Defense_a', 'Mid_a', 'Attack_a','B365H', 'B365D', 'B365A']].values\n",
    "        features_test = preprocessing.scale(features_test)\n",
    "        target_test = data_test[['Class']].values\n",
    "        c, r = target_train.shape\n",
    "        target_train = target_train.reshape(c,)\n",
    "        c, r = target_test.shape\n",
    "        target_test = target_test.reshape(c,)\n",
    "        clf.fit(features_train, target_train)\n",
    "        win_odd = [500]\n",
    "        draw_odd = [500]\n",
    "        lose_odd = [500]\n",
    "        Class = data_test['Class'].values\n",
    "        Book_H = data_test['B365H'].values\n",
    "        Book_D = data_test['B365D'].values\n",
    "        Book_A = data_test['B365A'].values\n",
    "        pred = clf.predict(features_test)\n",
    "        for win in win_odd:\n",
    "            for lose in lose_odd:\n",
    "                for draw in draw_odd:\n",
    "                    result = []\n",
    "                    invest = []\n",
    "                    for i in range(len(data_test)):\n",
    "                        if Class[i] == pred[i]:\n",
    "                            if Class[i] == 1:\n",
    "                                result.append((Book_H[i] - 1) * win)\n",
    "                                invest.append(win)\n",
    "                            if Class[i] == 0:\n",
    "                                result.append((Book_D[i] - 1) * draw)\n",
    "                                invest.append(draw)\n",
    "                            if Class[i] == -1:\n",
    "                                result.append((Book_A[i] - 1) * lose)\n",
    "                                invest.append(lose)\n",
    "                        else:\n",
    "                            if pred[i] == 1:\n",
    "                                result.append((-1) * win)\n",
    "                                invest.append(win)\n",
    "                            if pred[i] == 0:\n",
    "                                result.append((-1) * draw)\n",
    "                                invest.append(draw)\n",
    "                            if pred[i] == -1:\n",
    "                                result.append((-1) * lose)\n",
    "                                invest.append(lose)\n",
    "        all_res.append(sum(result))\n",
    "        invested.append(sum(invest))\n",
    "        ROI.append(sum(result)/sum(invest))\n",
    "    for s in range(len(seasons)):\n",
    "        print('For season', seasons[s], 'Invested:', invested[s], 'Profit', all_res[s], 'ROI', ROI[s])\n",
    "    print('SUMMARY', 'Invested:', sum(invested), 'Profit:', sum(all_res), 'ROI:', sum(all_res)/sum(invested))\n",
    "income_fun()    "
   ]
  },
  {
   "cell_type": "code",
   "execution_count": 201,
   "metadata": {
    "collapsed": false
   },
   "outputs": [
    {
     "name": "stdout",
     "output_type": "stream",
     "text": [
      "C_best: 8 Profit -4635.0 Invested: 121000 odds_vestor [0, 500, 0] ROI -0.038305785124\n"
     ]
    }
   ],
   "source": [
    "seasons = ['2008/2009', '2009/2010', '2010/2011', '2011/2012', '2012/2013', '2013/2014', '2014/2015', '2015/2016']\n",
    "\n",
    "def best_income_fun(C):\n",
    "    C_best = 0\n",
    "    win_odd = [0, 500]\n",
    "    draw_odd = [0, 500]\n",
    "    lose_odd = [0, 500]\n",
    "    best_odd = []\n",
    "    Total_invested = 0\n",
    "    Total_profit = 0\n",
    "    last_best = -20\n",
    "    for win in win_odd:\n",
    "        for lose in lose_odd:\n",
    "            for draw in draw_odd:\n",
    "                for j in C:\n",
    "                    clf = SVC(C = j, kernel = 'rbf', random_state = 6632)\n",
    "                    all_res = []\n",
    "                    all_invest = []\n",
    "                    total = 0\n",
    "                    profit = 0\n",
    "                    invested = 0\n",
    "                    ROI = 0 \n",
    "                    for s in seasons:\n",
    "                        data_train = data_1[data_1['season'] != s]\n",
    "                        features_train = data_train[['Last_3_games_at_home',\n",
    "                       'Last_3_games_away', 'CL_H', 'CL_A', 'Defense_h', 'Mid_h', 'Attack_h',\n",
    "                        'Defense_a', 'Mid_a', 'Attack_a','B365H', 'B365D', 'B365A']].values\n",
    "                        features_train = preprocessing.scale(features_train)\n",
    "                        target_train = data_train[['Class']].values\n",
    "                        data_test = data_1[data_1['season'] == s]\n",
    "                        features_test = data_test[['Last_3_games_at_home',\n",
    "                        'Last_3_games_away', 'CL_H', 'CL_A', 'Defense_h', 'Mid_h', 'Attack_h',\n",
    "                        'Defense_a', 'Mid_a', 'Attack_a','B365H', 'B365D', 'B365A']].values\n",
    "                        features_test = preprocessing.scale(features_test)\n",
    "                        target_test = data_test[['Class']].values\n",
    "                        c, r = target_train.shape\n",
    "                        target_train = target_train.reshape(c,)\n",
    "                        c, r = target_test.shape\n",
    "                        target_test = target_test.reshape(c,)\n",
    "                        clf.fit(features_train, target_train)\n",
    "                        Class = data_test['Class'].values\n",
    "                        Book_H = data_test['B365H'].values\n",
    "                        Book_D = data_test['B365D'].values\n",
    "                        Book_A = data_test['B365A'].values\n",
    "                        pred = clf.predict(features_test)\n",
    "                        best_res = -10000\n",
    "                        result = []\n",
    "                        invest = []\n",
    "                        for i in range(len(data_test)):\n",
    "                            if Class[i] == pred[i]:\n",
    "                                if Class[i] == 1:\n",
    "                                    result.append((Book_H[i] - 1) * win)\n",
    "                                    invest.append(win)\n",
    "                                if Class[i] == 0:\n",
    "                                    result.append((Book_D[i] - 1) * draw)\n",
    "                                    invest.append(draw)\n",
    "                                if Class[i] == -1:\n",
    "                                    result.append((Book_A[i] - 1) * lose)\n",
    "                                    invest.append(lose)\n",
    "                            else:\n",
    "                                if pred[i] == 1:\n",
    "                                    result.append((-1) * win)\n",
    "                                    invest.append(win)\n",
    "                                if pred[i] == 0:\n",
    "                                    result.append((-1) * draw)\n",
    "                                    invest.append(draw)\n",
    "                                if pred[i] == -1:\n",
    "                                    result.append((-1) * lose)\n",
    "                                    invest.append(lose)\n",
    "                        all_res.append(sum(result))\n",
    "                        all_invest.append(sum(invest))\n",
    "                    profit = np.sum(all_res)\n",
    "                    invested = np.sum(all_invest)\n",
    "                    ROI = profit/invested\n",
    "                    if ROI > last_best:\n",
    "                        last_best = ROI\n",
    "                        C_best = j \n",
    "                        Total_invested = invested\n",
    "                        Total_profit = profit\n",
    "                        best_odd = [win, draw, lose]\n",
    "    print('C_best:', C_best, 'Profit', Total_profit,'Invested:', Total_invested,'odds_vestor', best_odd, 'ROI', last_best)\n",
    "best_income_fun(np.arange(1, 15, 1))    "
   ]
  },
  {
   "cell_type": "code",
   "execution_count": 208,
   "metadata": {
    "collapsed": false
   },
   "outputs": [
    {
     "name": "stdout",
     "output_type": "stream",
     "text": [
      "For season 2008/2009 Invested: 15000 Profit 1425.0 ROI 0.095\n",
      "For season 2009/2010 Invested: 15500 Profit -3700.0 ROI -0.238709677419\n",
      "For season 2010/2011 Invested: 15000 Profit -50.0 ROI -0.00333333333333\n",
      "For season 2011/2012 Invested: 19000 Profit -2300.0 ROI -0.121052631579\n",
      "For season 2012/2013 Invested: 11000 Profit 1150.0 ROI 0.104545454545\n",
      "For season 2013/2014 Invested: 16500 Profit -5335.0 ROI -0.323333333333\n",
      "For season 2014/2015 Invested: 9000 Profit 1250.0 ROI 0.138888888889\n",
      "For season 2015/2016 Invested: 20000 Profit 2925.0 ROI 0.14625\n",
      "SUMMARY Invested: 121000 Profit: -4635.0 ROI: -0.038305785124\n"
     ]
    }
   ],
   "source": [
    "seasons = ['2008/2009', '2009/2010', '2010/2011', '2011/2012', '2012/2013', '2013/2014', '2014/2015', '2015/2016']\n",
    "def income_fun():\n",
    "    clf = SVC(C = 8, kernel = 'rbf', random_state = 6632)\n",
    "    all_res = []\n",
    "    invested = []\n",
    "    ROI = []\n",
    "    total = 0\n",
    "    for s in seasons:\n",
    "        data_train = data_1[data_1['season'] != s]\n",
    "        features_train = data_train[['Last_3_games_at_home',\n",
    "       'Last_3_games_away', 'CL_H', 'CL_A', 'Defense_h', 'Mid_h', 'Attack_h',\n",
    "        'Defense_a', 'Mid_a', 'Attack_a','B365H', 'B365D', 'B365A']].values\n",
    "        features_train = preprocessing.scale(features_train)\n",
    "        target_train = data_train[['Class']].values\n",
    "        data_test = data_1[data_1['season'] == s]\n",
    "        features_test = data_test[['Last_3_games_at_home',\n",
    "        'Last_3_games_away', 'CL_H', 'CL_A', 'Defense_h', 'Mid_h', 'Attack_h',\n",
    "        'Defense_a', 'Mid_a', 'Attack_a','B365H', 'B365D', 'B365A']].values\n",
    "        features_test = preprocessing.scale(features_test)\n",
    "        target_test = data_test[['Class']].values\n",
    "        c, r = target_train.shape\n",
    "        target_train = target_train.reshape(c,)\n",
    "        c, r = target_test.shape\n",
    "        target_test = target_test.reshape(c,)\n",
    "        clf.fit(features_train, target_train)\n",
    "        win_odd = [0]\n",
    "        draw_odd = [500]\n",
    "        lose_odd = [0]\n",
    "        Class = data_test['Class'].values\n",
    "        Book_H = data_test['B365H'].values\n",
    "        Book_D = data_test['B365D'].values\n",
    "        Book_A = data_test['B365A'].values\n",
    "        pred = clf.predict(features_test)\n",
    "        for win in win_odd:\n",
    "            for lose in lose_odd:\n",
    "                for draw in draw_odd:\n",
    "                    result = []\n",
    "                    invest = []\n",
    "                    for i in range(len(data_test)):\n",
    "                        if Class[i] == pred[i]:\n",
    "                            if Class[i] == 1:\n",
    "                                result.append((Book_H[i] - 1) * win)\n",
    "                                invest.append(win)\n",
    "                            if Class[i] == 0:\n",
    "                                result.append((Book_D[i] - 1) * draw)\n",
    "                                invest.append(draw)\n",
    "                            if Class[i] == -1:\n",
    "                                result.append((Book_A[i] - 1) * lose)\n",
    "                                invest.append(lose)\n",
    "                        else:\n",
    "                            if pred[i] == 1:\n",
    "                                result.append((-1) * win)\n",
    "                                invest.append(win)\n",
    "                            if pred[i] == 0:\n",
    "                                result.append((-1) * draw)\n",
    "                                invest.append(draw)\n",
    "                            if pred[i] == -1:\n",
    "                                result.append((-1) * lose)\n",
    "                                invest.append(lose)\n",
    "        all_res.append(sum(result))\n",
    "        invested.append(sum(invest))\n",
    "        ROI.append(sum(result)/sum(invest))\n",
    "    for s in range(len(seasons)):\n",
    "        print('For season', seasons[s], 'Invested:', invested[s], 'Profit', all_res[s], 'ROI', ROI[s])\n",
    "    print('SUMMARY', 'Invested:', sum(invested), 'Profit:', sum(all_res), 'ROI:', sum(all_res)/sum(invested))\n",
    "income_fun()  "
   ]
  },
  {
   "cell_type": "markdown",
   "metadata": {},
   "source": [
    "# RandomForest"
   ]
  },
  {
   "cell_type": "markdown",
   "metadata": {},
   "source": [
    "Подбор параметров для Accuracy"
   ]
  },
  {
   "cell_type": "code",
   "execution_count": 46,
   "metadata": {
    "collapsed": false
   },
   "outputs": [
    {
     "name": "stdout",
     "output_type": "stream",
     "text": [
      "BEST RESULT log2 for min_leaf =  80 accuracy =  0.532251951846 8\n"
     ]
    }
   ],
   "source": [
    "from sklearn.ensemble import RandomForestClassifier\n",
    "max_features = [\"auto\", \"sqrt\", \"log2\"]\n",
    "def best_params_Rf(min_samples_leaf):\n",
    "    best_acc = 0\n",
    "    best_max_features = 0\n",
    "    best_min_sample_leaf = 0\n",
    "    for i in max_features:\n",
    "        for j in min_samples_leaf:\n",
    "            clf = RandomForestClassifier(min_samples_leaf = j, max_features = i, n_estimators = 50, random_state = 6632) \n",
    "            scores = cross_val_score(clf, features, target, cv=5)\n",
    "            if np.mean(scores) > best_acc:\n",
    "                best_acc = np.mean(scores)\n",
    "                best_max_features = i\n",
    "                best_min_samples_leaf = j\n",
    "    print('BEST RESULT', i, 'for min_leaf = ', best_min_samples_leaf , 'accuracy = ', best_acc)\n",
    "best_params_Rf(np.arange(80, 80, 1))"
   ]
  },
  {
   "cell_type": "code",
   "execution_count": 179,
   "metadata": {
    "collapsed": false
   },
   "outputs": [
    {
     "name": "stdout",
     "output_type": "stream",
     "text": [
      "BEST RESULT log2 for min_leaf =  58 accuracy =  0.576728499157 n_est:  6\n"
     ]
    }
   ],
   "source": [
    "from sklearn.ensemble import RandomForestClassifier\n",
    "max_features = [\"auto\", \"log2\"]\n",
    "X_train, X_test, y_train, y_test = train_test_split(\n",
    "    features, target, test_size=0.2, random_state=6632)\n",
    "def best_params_Rf(min_samples_leaf, n_est):\n",
    "    best_acc = 0\n",
    "    best_max_features = 0\n",
    "    best_min_sample_leaf = 0\n",
    "    best_est = 0\n",
    "    for i in max_features:\n",
    "        for j in min_samples_leaf:\n",
    "            for k in n_est:\n",
    "                clf = RandomForestClassifier(min_samples_leaf = j, max_features = i, n_estimators = k, random_state = 6632) \n",
    "                clf.fit(X_train, y_train)\n",
    "                scores = accuracy_score(y_test, clf.predict(X_test))\n",
    "                if np.mean(scores) > best_acc:\n",
    "                    best_acc = np.mean(scores)\n",
    "                    best_max_features = i\n",
    "                    best_min_samples_leaf = j\n",
    "                    best_est = k \n",
    "    print('BEST RESULT', i, 'for min_leaf = ', best_min_samples_leaf , 'accuracy = ', best_acc, 'n_est: ', best_est)\n",
    "best_params_Rf(np.arange(2, 82, 1), np.arange(2, 60, 2))"
   ]
  },
  {
   "cell_type": "markdown",
   "metadata": {},
   "source": [
    "Построим Confusion_matrix:"
   ]
  },
  {
   "cell_type": "code",
   "execution_count": 188,
   "metadata": {
    "collapsed": false
   },
   "outputs": [
    {
     "name": "stdout",
     "output_type": "stream",
     "text": [
      "0.559865092749\n",
      "Confusion matrix, without normalization\n",
      "[[ 87   2  92]\n",
      " [ 26   8 107]\n",
      " [ 32   2 237]]\n"
     ]
    },
    {
     "data": {
      "image/png": "[encoded data removed]",
      "text/plain": [
       "<matplotlib.figure.Figure at 0x11809a4a8>"
      ]
     },
     "metadata": {},
     "output_type": "display_data"
    }
   ],
   "source": [
    "from sklearn.cross_validation import train_test_split\n",
    "X_train, X_test, y_train, y_test = train_test_split(\n",
    "    features, target, test_size=0.2, random_state=6632)\n",
    "clf = RandomForestClassifier(max_depth = 8, min_samples_leaf = 80, max_features = 'log2', n_estimators = 50, random_state = 6632) #put optimal params from last code\n",
    "clf.fit(X_train, y_train)\n",
    "print(accuracy_score(y_test, clf.predict(X_test)))\n",
    "# Compute confusion matrix\n",
    "cnf_matrix = confusion_matrix(y_test, clf.predict(X_test))\n",
    "np.set_printoptions(precision=2)\n",
    "\n",
    "# Plot non-normalized confusion matrix\n",
    "plt.figure()\n",
    "plot_confusion_matrix(cnf_matrix, classes=['AW', 'DR', 'HW'], title='Confusion matrix, without normalization')"
   ]
  },
  {
   "cell_type": "code",
   "execution_count": 195,
   "metadata": {
    "collapsed": false
   },
   "outputs": [
    {
     "name": "stdout",
     "output_type": "stream",
     "text": [
      "For season 2008/2009 Invested: 174000 Profit -7035.0 ROI -0.0404310344828\n",
      "For season 2009/2010 Invested: 186500 Profit -7825.0 ROI -0.0419571045576\n",
      "For season 2010/2011 Invested: 183500 Profit -12650.0 ROI -0.0689373297003\n",
      "For season 2011/2012 Invested: 183500 Profit -17625.0 ROI -0.0960490463215\n",
      "For season 2012/2013 Invested: 190000 Profit -9280.0 ROI -0.0488421052632\n",
      "For season 2013/2014 Invested: 189000 Profit 18490.0 ROI 0.0978306878307\n",
      "For season 2014/2015 Invested: 185500 Profit -4485.0 ROI -0.0241778975741\n",
      "For season 2015/2016 Invested: 188500 Profit -32125.0 ROI -0.170424403183\n",
      "SUMMARY Invested: 1480500 Profit: -72535.0 ROI: -0.0489935832489\n"
     ]
    }
   ],
   "source": [
    "seasons = ['2008/2009', '2009/2010', '2010/2011', '2011/2012', '2012/2013', '2013/2014', '2014/2015', '2015/2016']\n",
    "def income_fun():\n",
    "    clf = RandomForestClassifier(max_depth = 8, min_samples_leaf = 80, max_features = 'log2', n_estimators = 50, random_state = 6632) #put optimal params from last code\n",
    "    all_res = []\n",
    "    invested = []\n",
    "    ROI = []\n",
    "    total = 0\n",
    "    for s in seasons:\n",
    "        data_train = data_1[data_1['season'] != s]\n",
    "        features_train = data_train[['Last_3_games_at_home',\n",
    "       'Last_3_games_away', 'CL_H', 'CL_A', 'Defense_h', 'Mid_h', 'Attack_h',\n",
    "        'Defense_a', 'Mid_a', 'Attack_a','B365H', 'B365D', 'B365A']].values\n",
    "        features_train = preprocessing.scale(features_train)\n",
    "        target_train = data_train[['Class']].values\n",
    "        data_test = data_1[data_1['season'] == s]\n",
    "        features_test = data_test[['Last_3_games_at_home',\n",
    "        'Last_3_games_away', 'CL_H', 'CL_A', 'Defense_h', 'Mid_h', 'Attack_h',\n",
    "        'Defense_a', 'Mid_a', 'Attack_a','B365H', 'B365D', 'B365A']].values\n",
    "        features_test = preprocessing.scale(features_test)\n",
    "        target_test = data_test[['Class']].values\n",
    "        c, r = target_train.shape\n",
    "        target_train = target_train.reshape(c,)\n",
    "        c, r = target_test.shape\n",
    "        target_test = target_test.reshape(c,)\n",
    "        clf.fit(features_train, target_train)\n",
    "        win_odd = [500]\n",
    "        draw_odd = [500]\n",
    "        lose_odd = [500]\n",
    "        Class = data_test['Class'].values\n",
    "        Book_H = data_test['B365H'].values\n",
    "        Book_D = data_test['B365D'].values\n",
    "        Book_A = data_test['B365A'].values\n",
    "        pred = clf.predict(features_test)\n",
    "        for win in win_odd:\n",
    "            for lose in lose_odd:\n",
    "                for draw in draw_odd:\n",
    "                    result = []\n",
    "                    for i in range(len(data_test)):\n",
    "                        if Class[i] == pred[i]:\n",
    "                            if Class[i] == 1:\n",
    "                                result.append((Book_H[i] - 1) * win)\n",
    "                            if Class[i] == 0:\n",
    "                                result.append((Book_D[i] - 1) * draw)\n",
    "                            if Class[i] == -1:\n",
    "                                result.append((Book_A[i] - 1) * lose)\n",
    "                        else:\n",
    "                            if pred[i] == 1:\n",
    "                                result.append((-1) * win)\n",
    "                            if pred[i] == 0:\n",
    "                                result.append((-1) * draw)\n",
    "                            if pred[i] == -1:\n",
    "                                result.append((-1) * lose)\n",
    "        all_res.append(sum(result))\n",
    "        invested.append(500*len(result))\n",
    "        ROI.append(sum(result)/(500*len(result)))\n",
    "    for s in range(len(seasons)):\n",
    "        print('For season', seasons[s], 'Invested:', invested[s], 'Profit', all_res[s], 'ROI', ROI[s])\n",
    "    print('SUMMARY', 'Invested:', sum(invested), 'Profit:', sum(all_res), 'ROI:', sum(all_res)/sum(invested))\n",
    "income_fun()  "
   ]
  },
  {
   "cell_type": "code",
   "execution_count": 202,
   "metadata": {
    "collapsed": false
   },
   "outputs": [
    {
     "name": "stdout",
     "output_type": "stream",
     "text": [
      "min_leaf_best: 95 n_est_best: 40 Profit 8525.0 Invested: 8000 odds_vestor [0, 500, 0] ROI 1.065625\n"
     ]
    }
   ],
   "source": [
    "seasons = ['2008/2009', '2009/2010', '2010/2011', '2011/2012', '2012/2013', '2013/2014', '2014/2015', '2015/2016']\n",
    "\n",
    "def best_income_fun(min_leaf, n_est):\n",
    "    min_leaf_best = 0\n",
    "    n_est_best = 0\n",
    "    win_odd = [0, 500]\n",
    "    draw_odd = [0, 500]\n",
    "    lose_odd = [0, 500]\n",
    "    best_odd = []\n",
    "    Total_invested = 0\n",
    "    Total_profit = 0\n",
    "    last_best = -20\n",
    "    for win in win_odd:\n",
    "        for lose in lose_odd:\n",
    "            for draw in draw_odd:\n",
    "                for j in min_leaf:\n",
    "                    for x in n_est:\n",
    "                        clf = RandomForestClassifier(max_depth = 8, min_samples_leaf = j, max_features = 'log2', n_estimators = x, random_state = 6632)\n",
    "                        all_res = []\n",
    "                        all_invest = []\n",
    "                        total = 0\n",
    "                        profit = 0\n",
    "                        invested = 0\n",
    "                        ROI = 0 \n",
    "                        for s in seasons:\n",
    "                            data_train = data_1[data_1['season'] != s]\n",
    "                            features_train = data_train[['Last_3_games_at_home',\n",
    "                           'Last_3_games_away', 'CL_H', 'CL_A', 'Defense_h', 'Mid_h', 'Attack_h',\n",
    "                            'Defense_a', 'Mid_a', 'Attack_a','B365H', 'B365D', 'B365A']].values\n",
    "                            features_train = preprocessing.scale(features_train)\n",
    "                            target_train = data_train[['Class']].values\n",
    "                            data_test = data_1[data_1['season'] == s]\n",
    "                            features_test = data_test[['Last_3_games_at_home',\n",
    "                            'Last_3_games_away', 'CL_H', 'CL_A', 'Defense_h', 'Mid_h', 'Attack_h',\n",
    "                            'Defense_a', 'Mid_a', 'Attack_a','B365H', 'B365D', 'B365A']].values\n",
    "                            features_test = preprocessing.scale(features_test)\n",
    "                            target_test = data_test[['Class']].values\n",
    "                            c, r = target_train.shape\n",
    "                            target_train = target_train.reshape(c,)\n",
    "                            c, r = target_test.shape\n",
    "                            target_test = target_test.reshape(c,)\n",
    "                            clf.fit(features_train, target_train)\n",
    "                            Class = data_test['Class'].values\n",
    "                            Book_H = data_test['B365H'].values\n",
    "                            Book_D = data_test['B365D'].values\n",
    "                            Book_A = data_test['B365A'].values\n",
    "                            pred = clf.predict(features_test)\n",
    "                            best_res = -10000\n",
    "                            result = []\n",
    "                            invest = []\n",
    "                            for i in range(len(data_test)):\n",
    "                                if Class[i] == pred[i]:\n",
    "                                    if Class[i] == 1:\n",
    "                                        result.append((Book_H[i] - 1) * win)\n",
    "                                        invest.append(win)\n",
    "                                    if Class[i] == 0:\n",
    "                                        result.append((Book_D[i] - 1) * draw)\n",
    "                                        invest.append(draw)\n",
    "                                    if Class[i] == -1:\n",
    "                                        result.append((Book_A[i] - 1) * lose)\n",
    "                                        invest.append(lose)\n",
    "                                else:\n",
    "                                    if pred[i] == 1:\n",
    "                                        result.append((-1) * win)\n",
    "                                        invest.append(win)\n",
    "                                    if pred[i] == 0:\n",
    "                                        result.append((-1) * draw)\n",
    "                                        invest.append(draw)\n",
    "                                    if pred[i] == -1:\n",
    "                                        result.append((-1) * lose)\n",
    "                                        invest.append(lose)\n",
    "                            all_res.append(sum(result))\n",
    "                            all_invest.append(sum(invest))\n",
    "                        profit = np.sum(all_res)\n",
    "                        invested = np.sum(all_invest)\n",
    "                        ROI = profit/invested\n",
    "                        if ROI > last_best:\n",
    "                            last_best = ROI\n",
    "                            min_leaf_best = j\n",
    "                            n_est_best = x\n",
    "                            Total_invested = invested\n",
    "                            Total_profit = profit\n",
    "                            best_odd = [win, draw, lose]\n",
    "    print('min_leaf_best:', min_leaf_best, 'n_est_best:',  n_est_best,'Profit', Total_profit,'Invested:', Total_invested,'odds_vestor', best_odd, 'ROI', last_best)\n",
    "best_income_fun(np.arange(10, 100, 5), np.arange(10, 100, 10))    "
   ]
  },
  {
   "cell_type": "code",
   "execution_count": 207,
   "metadata": {
    "collapsed": false
   },
   "outputs": [
    {
     "name": "stdout",
     "output_type": "stream",
     "text": [
      "For season 2008/2009 Invested: 2500 Profit 2550.0 ROI 1.02\n",
      "For season 2009/2010 Invested: 1000 Profit 625.0 ROI 0.625\n",
      "For season 2010/2011 Invested: 1500 Profit 1825.0 ROI 1.21666666667\n",
      "For season 2011/2012 Invested: 1500 Profit 3400.0 ROI 2.26666666667\n",
      "For season 2012/2013 Invested: 0 Profit 0.0 ROI nan\n",
      "For season 2013/2014 Invested: 500 Profit 1125.0 ROI 2.25\n",
      "For season 2014/2015 Invested: 0 Profit 0.0 ROI nan\n",
      "For season 2015/2016 Invested: 1000 Profit -1000.0 ROI -1.0\n",
      "SUMMARY Invested: 8000 Profit: 8525.0 ROI: 1.065625\n"
     ]
    }
   ],
   "source": [
    "seasons = ['2008/2009', '2009/2010', '2010/2011', '2011/2012', '2012/2013', '2013/2014', '2014/2015', '2015/2016']\n",
    "def income_fun():\n",
    "    clf = RandomForestClassifier(max_depth = 8, min_samples_leaf = 95, max_features = 'log2', n_estimators = 40, random_state = 6632)\n",
    "    all_res = []\n",
    "    invested = []\n",
    "    ROI = []\n",
    "    total = 0\n",
    "    for s in seasons:\n",
    "        data_train = data_1[data_1['season'] != s]\n",
    "        features_train = data_train[['Last_3_games_at_home',\n",
    "       'Last_3_games_away', 'CL_H', 'CL_A', 'Defense_h', 'Mid_h', 'Attack_h',\n",
    "        'Defense_a', 'Mid_a', 'Attack_a','B365H', 'B365D', 'B365A']].values\n",
    "        features_train = preprocessing.scale(features_train)\n",
    "        target_train = data_train[['Class']].values\n",
    "        data_test = data_1[data_1['season'] == s]\n",
    "        features_test = data_test[['Last_3_games_at_home',\n",
    "        'Last_3_games_away', 'CL_H', 'CL_A', 'Defense_h', 'Mid_h', 'Attack_h',\n",
    "        'Defense_a', 'Mid_a', 'Attack_a','B365H', 'B365D', 'B365A']].values\n",
    "        features_test = preprocessing.scale(features_test)\n",
    "        target_test = data_test[['Class']].values\n",
    "        c, r = target_train.shape\n",
    "        target_train = target_train.reshape(c,)\n",
    "        c, r = target_test.shape\n",
    "        target_test = target_test.reshape(c,)\n",
    "        clf.fit(features_train, target_train)\n",
    "        win_odd = [0]\n",
    "        draw_odd = [500]\n",
    "        lose_odd = [0]\n",
    "        Class = data_test['Class'].values\n",
    "        Book_H = data_test['B365H'].values\n",
    "        Book_D = data_test['B365D'].values\n",
    "        Book_A = data_test['B365A'].values\n",
    "        pred = clf.predict(features_test)\n",
    "        for win in win_odd:\n",
    "            for lose in lose_odd:\n",
    "                for draw in draw_odd:\n",
    "                    result = []\n",
    "                    invest = []\n",
    "                    for i in range(len(data_test)):\n",
    "                        if Class[i] == pred[i]:\n",
    "                            if Class[i] == 1:\n",
    "                                result.append((Book_H[i] - 1) * win)\n",
    "                                invest.append(win)\n",
    "                            if Class[i] == 0:\n",
    "                                result.append((Book_D[i] - 1) * draw)\n",
    "                                invest.append(draw)\n",
    "                            if Class[i] == -1:\n",
    "                                result.append((Book_A[i] - 1) * lose)\n",
    "                                invest.append(lose)\n",
    "                        else:\n",
    "                            if pred[i] == 1:\n",
    "                                result.append((-1) * win)\n",
    "                                invest.append(win)\n",
    "                            if pred[i] == 0:\n",
    "                                result.append((-1) * draw)\n",
    "                                invest.append(draw)\n",
    "                            if pred[i] == -1:\n",
    "                                result.append((-1) * lose)\n",
    "                                invest.append(lose)\n",
    "        all_res.append(sum(result))\n",
    "        invested.append(sum(invest))\n",
    "        ROI.append(sum(result)/sum(invest))\n",
    "    for s in range(len(seasons)):\n",
    "        print('For season', seasons[s], 'Invested:', invested[s], 'Profit', all_res[s], 'ROI', ROI[s])\n",
    "    print('SUMMARY', 'Invested:', sum(invested), 'Profit:', sum(all_res), 'ROI:', sum(all_res)/sum(invested))\n",
    "income_fun()  "
   ]
  },
  {
   "cell_type": "code",
   "execution_count": 213,
   "metadata": {
    "collapsed": false
   },
   "outputs": [
    {
     "name": "stdout",
     "output_type": "stream",
     "text": [
      "Total Invested: 194000 Best_thres: 0.32 min_samples_leaf 60 Total_profit 37200.0 ROI 0.19175257732 odd vector: [0, 500, 0]\n"
     ]
    }
   ],
   "source": [
    "def best_income_fun_with_prob(min_samples_leaf, draw_array):\n",
    "    leaf_best = 0\n",
    "    last_profit = 0\n",
    "    last_invest = 0\n",
    "    ROI = -20\n",
    "    profit = 0\n",
    "    invested = 0\n",
    "    win_odd = [0, 500]\n",
    "    draw_odd = [0, 500]\n",
    "    lose_odd = [0, 500]\n",
    "    odds_array = []\n",
    "    win_odd_best = -1\n",
    "    draw_odd_best = -1\n",
    "    lose_odd_best = -1\n",
    "    number_of_odds = 0\n",
    "    last_best = -10000\n",
    "    total = 0\n",
    "    best_max_feat = -1\n",
    "    best_thres = 0\n",
    "    n = 0 \n",
    "    for dr_pr in draw_array:\n",
    "        for win in win_odd:\n",
    "            for lose in lose_odd:\n",
    "                for draw in draw_odd:                       \n",
    "                    for j in min_samples_leaf:\n",
    "                        clf = RandomForestClassifier(max_features = 'log2', min_samples_leaf = j, n_estimators = 40, random_state = 6632)\n",
    "                        all_res = []\n",
    "                        all_invest = []\n",
    "                        n = 0\n",
    "                        for s in seasons:\n",
    "                            data_train = data_1[data_1['season'] != s]\n",
    "                            features_train = data_train[['Last_3_games_at_home',\n",
    "                            'Last_3_games_away', 'CL_H', 'CL_A', 'Defense_h', 'Mid_h', 'Attack_h',\n",
    "                            'Defense_a', 'Mid_a', 'Attack_a','B365H', 'B365D', 'B365A']].values\n",
    "                            target_train = data_train[['Class']].values\n",
    "                            data_test = data_1[data_1['season'] == s]\n",
    "                            features_test = data_test[['Last_3_games_at_home',\n",
    "                            'Last_3_games_away', 'CL_H', 'CL_A', 'Defense_h', 'Mid_h', 'Attack_h',\n",
    "                            'Defense_a', 'Mid_a', 'Attack_a','B365H', 'B365D', 'B365A']].values\n",
    "                            target_test = data_test[['Class']].values\n",
    "                            c, r = target_train.shape\n",
    "                            target_train = target_train.reshape(c,)\n",
    "                            c, r = target_test.shape\n",
    "                            target_test = target_test.reshape(c,)\n",
    "                            clf.fit(features_train, target_train)\n",
    "                            Class = data_test['Class'].values\n",
    "                            Book_H = data_test['B365H'].values\n",
    "                            Book_D = data_test['B365D'].values\n",
    "                            Book_A = data_test['B365A'].values\n",
    "                            pred = clf.predict(features_test)\n",
    "                            probs = clf.predict_proba(features_test)\n",
    "                            win_pr = probs[:, 2]\n",
    "                            draw_pr = probs[:, 1]\n",
    "                            lose_pr = probs[:, 0]\n",
    "                            result = []\n",
    "                            invest = []\n",
    "                            for i in range(len(data_test)):\n",
    "                                if draw_pr[i] > dr_pr or pred[i] == 0:\n",
    "                                    pred[i] = 0\n",
    "                                    n = n + 1\n",
    "                                if Class[i] == pred[i]:\n",
    "                                    if Class[i] == 1:\n",
    "                                        result.append((Book_H[i] - 1) * win)\n",
    "                                        invest.append(win)\n",
    "                                    if Class[i] == 0:\n",
    "                                        result.append((Book_D[i] - 1) * draw)\n",
    "                                        invest.append(draw)\n",
    "                                    if Class[i] == -1:\n",
    "                                        result.append((Book_A[i] - 1) * lose)\n",
    "                                        invest.append(lose)\n",
    "                                else:\n",
    "                                    if pred[i] == 1:\n",
    "                                        result.append((-1) * win)\n",
    "                                        invest.append(win)\n",
    "                                    if pred[i] == 0:\n",
    "                                        result.append((-1) * draw)\n",
    "                                        invest.append(draw)\n",
    "                                    if pred[i] == -1:\n",
    "                                        result.append((-1) * lose)\n",
    "                                        invest.append(lose)\n",
    "                            all_res.append(sum(result))\n",
    "                            all_invest.append(sum(invest))\n",
    "                        profit = np.sum(all_res)\n",
    "                        invested = np.sum(all_invest)\n",
    "                        ROI = profit/invested\n",
    "                        if profit > last_profit:\n",
    "                            last_best = ROI\n",
    "                            leaf_best = j\n",
    "                            last_profit = profit\n",
    "                            last_invest = invested\n",
    "                            odds_array = [win, draw, lose]\n",
    "                            best_thres = dr_pr\n",
    "                            number_of_odds = n\n",
    "    print('Total Invested:', last_invest, 'Best_thres:', best_thres, 'min_samples_leaf', leaf_best, 'Total_profit', last_profit, 'ROI', last_best, 'odd vector:', odds_array)\n",
    "best_income_fun_with_prob(np.arange(50, 100, 5), np.arange(0.27, 0.36, 0.01))    "
   ]
  },
  {
   "cell_type": "code",
   "execution_count": 224,
   "metadata": {
    "collapsed": false
   },
   "outputs": [
    {
     "name": "stdout",
     "output_type": "stream",
     "text": [
      "For season 2008/2009 Invested: 28500 Profit 7675.0 ROI 0.269298245614\n",
      "For season 2009/2010 Invested: 29500 Profit 1625.0 ROI 0.0550847457627\n",
      "For season 2010/2011 Invested: 20500 Profit 2400.0 ROI 0.117073170732\n",
      "For season 2011/2012 Invested: 31500 Profit 3150.0 ROI 0.1\n",
      "For season 2012/2013 Invested: 16500 Profit 12400.0 ROI 0.751515151515\n",
      "For season 2013/2014 Invested: 31000 Profit 4425.0 ROI 0.142741935484\n",
      "For season 2014/2015 Invested: 23000 Profit 7000.0 ROI 0.304347826087\n",
      "For season 2015/2016 Invested: 13500 Profit -1475.0 ROI -0.109259259259\n",
      "SUMMARY Invested: 194000 Profit: 37200.0 ROI: 0.19175257732\n"
     ]
    }
   ],
   "source": [
    "seasons = ['2008/2009', '2009/2010', '2010/2011', '2011/2012', '2012/2013', '2013/2014', '2014/2015', '2015/2016']\n",
    "def income_fun():\n",
    "    clf = RandomForestClassifier(min_samples_leaf = 60, max_features = 'log2', n_estimators = 40, random_state = 6632)\n",
    "    all_res = []\n",
    "    invested = []\n",
    "    ROI = []\n",
    "    total = 0\n",
    "    for s in seasons:\n",
    "        data_train = data_1[data_1['season'] != s]\n",
    "        features_train = data_train[['Last_3_games_at_home',\n",
    "       'Last_3_games_away', 'CL_H', 'CL_A', 'Defense_h', 'Mid_h', 'Attack_h',\n",
    "        'Defense_a', 'Mid_a', 'Attack_a','B365H', 'B365D', 'B365A']].values\n",
    "        target_train = data_train[['Class']].values\n",
    "        data_test = data_1[data_1['season'] == s]\n",
    "        features_test = data_test[['Last_3_games_at_home',\n",
    "        'Last_3_games_away', 'CL_H', 'CL_A', 'Defense_h', 'Mid_h', 'Attack_h',\n",
    "        'Defense_a', 'Mid_a', 'Attack_a','B365H', 'B365D', 'B365A']].values\n",
    "        target_test = data_test[['Class']].values\n",
    "        c, r = target_train.shape\n",
    "        target_train = target_train.reshape(c,)\n",
    "        c, r = target_test.shape\n",
    "        target_test = target_test.reshape(c,)\n",
    "        clf.fit(features_train, target_train)\n",
    "        win_odd = [0]\n",
    "        draw_odd = [500]\n",
    "        lose_odd = [0]\n",
    "        Class = data_test['Class'].values\n",
    "        Book_H = data_test['B365H'].values\n",
    "        Book_D = data_test['B365D'].values\n",
    "        Book_A = data_test['B365A'].values\n",
    "        pred = clf.predict(features_test)\n",
    "        probs = clf.predict_proba(features_test)\n",
    "        win_pr = probs[:, 2]\n",
    "        draw_pr = probs[:, 1]\n",
    "        lose_pr = probs[:, 0]\n",
    "        for win in win_odd:\n",
    "            for lose in lose_odd:\n",
    "                for draw in draw_odd:\n",
    "                    result = []\n",
    "                    invest = []\n",
    "                    for i in range(len(data_test)):\n",
    "                        if draw_pr[i] > 0.32 or pred[i] == 0:\n",
    "                            pred[i] = 0\n",
    "                        if Class[i] == pred[i]:\n",
    "                            if Class[i] == 1:\n",
    "                                result.append((Book_H[i] - 1) * win)\n",
    "                                invest.append(win)\n",
    "                            if Class[i] == 0:\n",
    "                                result.append((Book_D[i] - 1) * draw)\n",
    "                                invest.append(draw)\n",
    "                            if Class[i] == -1:\n",
    "                                result.append((Book_A[i] - 1) * lose)\n",
    "                                invest.append(lose)\n",
    "                        else:\n",
    "                            if pred[i] == 1:\n",
    "                                result.append((-1) * win)\n",
    "                                invest.append(win)\n",
    "                            if pred[i] == 0:\n",
    "                                result.append((-1) * draw)\n",
    "                                invest.append(draw)\n",
    "                            if pred[i] == -1:\n",
    "                                result.append((-1) * lose)\n",
    "                                invest.append(lose)\n",
    "        all_res.append(sum(result))\n",
    "        invested.append(sum(invest))\n",
    "        ROI.append(sum(result)/sum(invest))\n",
    "    for s in range(len(seasons)):\n",
    "        print('For season', seasons[s], 'Invested:', invested[s], 'Profit', all_res[s], 'ROI', ROI[s])\n",
    "    print('SUMMARY', 'Invested:', sum(invested), 'Profit:', sum(all_res), 'ROI:', sum(all_res)/sum(invested))\n",
    "income_fun()  "
   ]
  },
  {
   "cell_type": "markdown",
   "metadata": {},
   "source": [
    "# DecisionTree"
   ]
  },
  {
   "cell_type": "code",
   "execution_count": null,
   "metadata": {
    "collapsed": true
   },
   "outputs": [],
   "source": [
    "Подбор параметров для Accuracy"
   ]
  },
  {
   "cell_type": "code",
   "execution_count": 48,
   "metadata": {
    "collapsed": false
   },
   "outputs": [
    {
     "name": "stdout",
     "output_type": "stream",
     "text": [
      "BEST RESULT entropy auto for min_leaf =  6 max_depth  5 accuracy =  0.485635896308\n"
     ]
    }
   ],
   "source": [
    "from sklearn.tree import DecisionTreeClassifier\n",
    "max_features = ['auto', 'sqrt', 'log2']\n",
    "crits = ['gini', 'entropy']\n",
    "def best_params_DT(min_samples_leaf, max_depth):\n",
    "    best_acc = 0\n",
    "    best_max_features = 0\n",
    "    best_min_sample_leaf = 0\n",
    "    best_depth = 0\n",
    "    best_crit = 0\n",
    "    for crit in crits:\n",
    "        for i in max_features:\n",
    "            for j in min_samples_leaf:\n",
    "                for k in max_depth:\n",
    "                    clf = DecisionTreeClassifier(class_weight = 'balanced', criterion= crit, max_depth = k, min_samples_leaf = j, max_features = i, random_state = 6632)\n",
    "                    scores = cross_val_score(clf, features, target, cv=5)\n",
    "                    if np.mean(scores) > best_acc:\n",
    "                        best_acc = np.mean(scores)\n",
    "                        best_max_features = i\n",
    "                        best_min_samples_leaf = j\n",
    "                        best_depth = k\n",
    "                        best_crit = crit\n",
    "    print('BEST RESULT', best_crit, best_max_features, 'for min_leaf = ', best_min_samples_leaf , 'max_depth ', best_depth, 'accuracy = ', best_acc)\n",
    "best_params_DT(np.arange(1, 43, 1), np.arange(1, 20, 1))"
   ]
  },
  {
   "cell_type": "markdown",
   "metadata": {},
   "source": [
    "Confusion matrix:"
   ]
  },
  {
   "cell_type": "code",
   "execution_count": 159,
   "metadata": {
    "collapsed": false
   },
   "outputs": [
    {
     "name": "stdout",
     "output_type": "stream",
     "text": [
      "0.505902192243\n",
      "Confusion matrix, without normalization\n",
      "[[ 69  47  65]\n",
      " [ 24  30  87]\n",
      " [ 25  45 201]]\n"
     ]
    },
    {
     "data": {
      "image/png": "[encoded data removed]",
      "text/plain": [
       "<matplotlib.figure.Figure at 0x11a309d30>"
      ]
     },
     "metadata": {},
     "output_type": "display_data"
    }
   ],
   "source": [
    "clf = DecisionTreeClassifier(max_depth = 6, min_samples_leaf = 43, max_features = 'auto', random_state = 6632) \n",
    "clf.fit(X_train, y_train)\n",
    "print(accuracy_score(y_test, clf.predict(X_test)))\n",
    "# Compute confusion matrix\n",
    "cnf_matrix = confusion_matrix(y_test, clf.predict(X_test))\n",
    "np.set_printoptions(precision=2)\n",
    "\n",
    "# Plot non-normalized confusion matrix\n",
    "plt.figure()\n",
    "plot_confusion_matrix(cnf_matrix, classes=['AW', 'DR', 'HW'], title='Confusion matrix, without normalization')"
   ]
  },
  {
   "cell_type": "code",
   "execution_count": 193,
   "metadata": {
    "collapsed": false
   },
   "outputs": [
    {
     "name": "stdout",
     "output_type": "stream",
     "text": [
      "For season 2008/2009 Invested: 174000 Profit 750.0 ROI 0.00431034482759\n",
      "For season 2009/2010 Invested: 186500 Profit -6625.0 ROI -0.0355227882038\n",
      "For season 2010/2011 Invested: 183500 Profit -21745.0 ROI -0.118501362398\n",
      "For season 2011/2012 Invested: 183500 Profit -18055.0 ROI -0.0983923705722\n",
      "For season 2012/2013 Invested: 190000 Profit -13905.0 ROI -0.0731842105263\n",
      "For season 2013/2014 Invested: 189000 Profit 20050.0 ROI 0.106084656085\n",
      "For season 2014/2015 Invested: 185500 Profit 3780.0 ROI 0.0203773584906\n",
      "For season 2015/2016 Invested: 188500 Profit -5105.0 ROI -0.0270822281167\n",
      "SUMMARY Invested: 1480500 Profit: -40855.0 ROI: -0.0275954069571\n"
     ]
    }
   ],
   "source": [
    "seasons = ['2008/2009', '2009/2010', '2010/2011', '2011/2012', '2012/2013', '2013/2014', '2014/2015', '2015/2016']\n",
    "def income_fun():\n",
    "    clf = DecisionTreeClassifier(max_depth = 6, min_samples_leaf = 43, max_features = 'auto', random_state = 6632)\n",
    "    all_res = []\n",
    "    invested = []\n",
    "    ROI = []\n",
    "    total = 0\n",
    "    for s in seasons:\n",
    "        data_train = data_1[data_1['season'] != s]\n",
    "        features_train = data_train[['Last_3_games_at_home',\n",
    "       'Last_3_games_away', 'CL_H', 'CL_A', 'Defense_h', 'Mid_h', 'Attack_h',\n",
    "        'Defense_a', 'Mid_a', 'Attack_a','B365H', 'B365D', 'B365A']].values\n",
    "        features_train = preprocessing.scale(features_train)\n",
    "        target_train = data_train[['Class']].values\n",
    "        data_test = data_1[data_1['season'] == s]\n",
    "        features_test = data_test[['Last_3_games_at_home',\n",
    "        'Last_3_games_away', 'CL_H', 'CL_A', 'Defense_h', 'Mid_h', 'Attack_h',\n",
    "        'Defense_a', 'Mid_a', 'Attack_a','B365H', 'B365D', 'B365A']].values\n",
    "        features_test = preprocessing.scale(features_test)\n",
    "        target_test = data_test[['Class']].values\n",
    "        c, r = target_train.shape\n",
    "        target_train = target_train.reshape(c,)\n",
    "        c, r = target_test.shape\n",
    "        target_test = target_test.reshape(c,)\n",
    "        clf.fit(features_train, target_train)\n",
    "        win_odd = [500]\n",
    "        draw_odd = [500]\n",
    "        lose_odd = [500]\n",
    "        Class = data_test['Class'].values\n",
    "        Book_H = data_test['B365H'].values\n",
    "        Book_D = data_test['B365D'].values\n",
    "        Book_A = data_test['B365A'].values\n",
    "        pred = clf.predict(features_test)\n",
    "        for win in win_odd:\n",
    "            for lose in lose_odd:\n",
    "                for draw in draw_odd:\n",
    "                    result = []\n",
    "                    for i in range(len(data_test)):\n",
    "                        if Class[i] == pred[i]:\n",
    "                            if Class[i] == 1:\n",
    "                                result.append((Book_H[i] - 1) * win)\n",
    "                            if Class[i] == 0:\n",
    "                                result.append((Book_D[i] - 1) * draw)\n",
    "                            if Class[i] == -1:\n",
    "                                result.append((Book_A[i] - 1) * lose)\n",
    "                        else:\n",
    "                            if pred[i] == 1:\n",
    "                                result.append((-1) * win)\n",
    "                            if pred[i] == 0:\n",
    "                                result.append((-1) * draw)\n",
    "                            if pred[i] == -1:\n",
    "                                result.append((-1) * lose)\n",
    "        all_res.append(sum(result))\n",
    "        invested.append(500*len(result))\n",
    "        ROI.append(sum(result)/(500*len(result)))\n",
    "    for s in range(len(seasons)):\n",
    "        print('For season', seasons[s], 'Invested:', invested[s], 'Profit', all_res[s], 'ROI', ROI[s])\n",
    "    print('SUMMARY', 'Invested:', sum(invested), 'Profit:', sum(all_res), 'ROI:', sum(all_res)/sum(invested))\n",
    "income_fun()  "
   ]
  },
  {
   "cell_type": "code",
   "execution_count": 203,
   "metadata": {
    "collapsed": false
   },
   "outputs": [
    {
     "name": "stdout",
     "output_type": "stream",
     "text": [
      "min_leaf_best: 55 max_depth_best: 4 Profit 13050.0 Invested: 91500 odds_vestor [0, 500, 0] ROI 0.14262295082\n"
     ]
    }
   ],
   "source": [
    "seasons = ['2008/2009', '2009/2010', '2010/2011', '2011/2012', '2012/2013', '2013/2014', '2014/2015', '2015/2016']\n",
    "\n",
    "def best_income_fun(min_leaf, max_depth):\n",
    "    min_leaf_best = 0\n",
    "    depth_best = 0\n",
    "    win_odd = [0, 500]\n",
    "    draw_odd = [0, 500]\n",
    "    lose_odd = [0, 500]\n",
    "    best_odd = []\n",
    "    Total_invested = 0\n",
    "    Total_profit = 0\n",
    "    last_best = -20\n",
    "    for win in win_odd:\n",
    "        for lose in lose_odd:\n",
    "            for draw in draw_odd:\n",
    "                for j in min_leaf:\n",
    "                    for x in max_depth:\n",
    "                        clf = DecisionTreeClassifier(max_depth = x, min_samples_leaf = j, max_features = 'auto', random_state = 6632)\n",
    "                        all_res = []\n",
    "                        all_invest = []\n",
    "                        total = 0\n",
    "                        profit = 0\n",
    "                        invested = 0\n",
    "                        ROI = 0 \n",
    "                        for s in seasons:\n",
    "                            data_train = data_1[data_1['season'] != s]\n",
    "                            features_train = data_train[['Last_3_games_at_home',\n",
    "                           'Last_3_games_away', 'CL_H', 'CL_A', 'Defense_h', 'Mid_h', 'Attack_h',\n",
    "                            'Defense_a', 'Mid_a', 'Attack_a','B365H', 'B365D', 'B365A']].values\n",
    "                            features_train = preprocessing.scale(features_train)\n",
    "                            target_train = data_train[['Class']].values\n",
    "                            data_test = data_1[data_1['season'] == s]\n",
    "                            features_test = data_test[['Last_3_games_at_home',\n",
    "                            'Last_3_games_away', 'CL_H', 'CL_A', 'Defense_h', 'Mid_h', 'Attack_h',\n",
    "                            'Defense_a', 'Mid_a', 'Attack_a','B365H', 'B365D', 'B365A']].values\n",
    "                            features_test = preprocessing.scale(features_test)\n",
    "                            target_test = data_test[['Class']].values\n",
    "                            c, r = target_train.shape\n",
    "                            target_train = target_train.reshape(c,)\n",
    "                            c, r = target_test.shape\n",
    "                            target_test = target_test.reshape(c,)\n",
    "                            clf.fit(features_train, target_train)\n",
    "                            Class = data_test['Class'].values\n",
    "                            Book_H = data_test['B365H'].values\n",
    "                            Book_D = data_test['B365D'].values\n",
    "                            Book_A = data_test['B365A'].values\n",
    "                            pred = clf.predict(features_test)\n",
    "                            best_res = -10000\n",
    "                            result = []\n",
    "                            invest = []\n",
    "                            for i in range(len(data_test)):\n",
    "                                if Class[i] == pred[i]:\n",
    "                                    if Class[i] == 1:\n",
    "                                        result.append((Book_H[i] - 1) * win)\n",
    "                                        invest.append(win)\n",
    "                                    if Class[i] == 0:\n",
    "                                        result.append((Book_D[i] - 1) * draw)\n",
    "                                        invest.append(draw)\n",
    "                                    if Class[i] == -1:\n",
    "                                        result.append((Book_A[i] - 1) * lose)\n",
    "                                        invest.append(lose)\n",
    "                                else:\n",
    "                                    if pred[i] == 1:\n",
    "                                        result.append((-1) * win)\n",
    "                                        invest.append(win)\n",
    "                                    if pred[i] == 0:\n",
    "                                        result.append((-1) * draw)\n",
    "                                        invest.append(draw)\n",
    "                                    if pred[i] == -1:\n",
    "                                        result.append((-1) * lose)\n",
    "                                        invest.append(lose)\n",
    "                            all_res.append(sum(result))\n",
    "                            all_invest.append(sum(invest))\n",
    "                        profit = np.sum(all_res)\n",
    "                        invested = np.sum(all_invest)\n",
    "                        ROI = profit/invested\n",
    "                        if ROI > last_best:\n",
    "                            last_best = ROI\n",
    "                            min_leaf_best = j\n",
    "                            depth_best = x\n",
    "                            Total_invested = invested\n",
    "                            Total_profit = profit\n",
    "                            best_odd = [win, draw, lose]\n",
    "    print('min_leaf_best:', min_leaf_best, 'max_depth_best:',  depth_best,'Profit', Total_profit,'Invested:', Total_invested,'odds_vestor', best_odd, 'ROI', last_best)\n",
    "best_income_fun(np.arange(10, 100, 5), np.arange(3, 10, 1))    "
   ]
  },
  {
   "cell_type": "code",
   "execution_count": 205,
   "metadata": {
    "collapsed": false
   },
   "outputs": [
    {
     "name": "stdout",
     "output_type": "stream",
     "text": [
      "For season 2008/2009 Invested: 4000 Profit 4200.0 ROI 1.05\n",
      "For season 2009/2010 Invested: 1500 Profit 300.0 ROI 0.2\n",
      "For season 2010/2011 Invested: 0 Profit 0.0 ROI nan\n",
      "For season 2011/2012 Invested: 20000 Profit -8525.0 ROI -0.42625\n",
      "For season 2012/2013 Invested: 31000 Profit 7650.0 ROI 0.246774193548\n",
      "For season 2013/2014 Invested: 4500 Profit -1000.0 ROI -0.222222222222\n",
      "For season 2014/2015 Invested: 3000 Profit 2875.0 ROI 0.958333333333\n",
      "For season 2015/2016 Invested: 27500 Profit 7550.0 ROI 0.274545454545\n",
      "SUMMARY Invested: 91500 Profit: 13050.0 ROI: 0.14262295082\n"
     ]
    }
   ],
   "source": [
    "seasons = ['2008/2009', '2009/2010', '2010/2011', '2011/2012', '2012/2013', '2013/2014', '2014/2015', '2015/2016']\n",
    "def income_fun():\n",
    "    clf = DecisionTreeClassifier(max_depth = 4, min_samples_leaf = 55, max_features = 'auto', random_state = 6632)\n",
    "    all_res = []\n",
    "    invested = []\n",
    "    ROI = []\n",
    "    total = 0\n",
    "    for s in seasons:\n",
    "        data_train = data_1[data_1['season'] != s]\n",
    "        features_train = data_train[['Last_3_games_at_home',\n",
    "       'Last_3_games_away', 'CL_H', 'CL_A', 'Defense_h', 'Mid_h', 'Attack_h',\n",
    "        'Defense_a', 'Mid_a', 'Attack_a','B365H', 'B365D', 'B365A']].values\n",
    "        features_train = preprocessing.scale(features_train)\n",
    "        target_train = data_train[['Class']].values\n",
    "        data_test = data_1[data_1['season'] == s]\n",
    "        features_test = data_test[['Last_3_games_at_home',\n",
    "        'Last_3_games_away', 'CL_H', 'CL_A', 'Defense_h', 'Mid_h', 'Attack_h',\n",
    "        'Defense_a', 'Mid_a', 'Attack_a','B365H', 'B365D', 'B365A']].values\n",
    "        features_test = preprocessing.scale(features_test)\n",
    "        target_test = data_test[['Class']].values\n",
    "        c, r = target_train.shape\n",
    "        target_train = target_train.reshape(c,)\n",
    "        c, r = target_test.shape\n",
    "        target_test = target_test.reshape(c,)\n",
    "        clf.fit(features_train, target_train)\n",
    "        win_odd = [0]\n",
    "        draw_odd = [500]\n",
    "        lose_odd = [0]\n",
    "        Class = data_test['Class'].values\n",
    "        Book_H = data_test['B365H'].values\n",
    "        Book_D = data_test['B365D'].values\n",
    "        Book_A = data_test['B365A'].values\n",
    "        pred = clf.predict(features_test)\n",
    "        for win in win_odd:\n",
    "            for lose in lose_odd:\n",
    "                for draw in draw_odd:\n",
    "                    result = []\n",
    "                    invest = []\n",
    "                    for i in range(len(data_test)):\n",
    "                        if Class[i] == pred[i]:\n",
    "                            if Class[i] == 1:\n",
    "                                result.append((Book_H[i] - 1) * win)\n",
    "                                invest.append(win)\n",
    "                            if Class[i] == 0:\n",
    "                                result.append((Book_D[i] - 1) * draw)\n",
    "                                invest.append(draw)\n",
    "                            if Class[i] == -1:\n",
    "                                result.append((Book_A[i] - 1) * lose)\n",
    "                                invest.append(lose)\n",
    "                        else:\n",
    "                            if pred[i] == 1:\n",
    "                                result.append((-1) * win)\n",
    "                                invest.append(win)\n",
    "                            if pred[i] == 0:\n",
    "                                result.append((-1) * draw)\n",
    "                                invest.append(draw)\n",
    "                            if pred[i] == -1:\n",
    "                                result.append((-1) * lose)\n",
    "                                invest.append(lose)\n",
    "        all_res.append(sum(result))\n",
    "        invested.append(sum(invest))\n",
    "        ROI.append(sum(result)/sum(invest))\n",
    "    for s in range(len(seasons)):\n",
    "        print('For season', seasons[s], 'Invested:', invested[s], 'Profit', all_res[s], 'ROI', ROI[s])\n",
    "    print('SUMMARY', 'Invested:', sum(invested), 'Profit:', sum(all_res), 'ROI:', sum(all_res)/sum(invested))\n",
    "income_fun()  "
   ]
  },
  {
   "cell_type": "code",
   "execution_count": 216,
   "metadata": {
    "collapsed": false
   },
   "outputs": [
    {
     "name": "stdout",
     "output_type": "stream",
     "text": [
      "Total Invested: 551500 Best_thres: 0.28 min_samples_leaf 80 Total_profit 45405.0 ROI 0.0823300090662 odd vector: [0, 500, 0]\n"
     ]
    }
   ],
   "source": [
    "def best_income_fun_with_prob(min_samples_leaf, draw_array):\n",
    "    leaf_best = 0\n",
    "    last_profit = 0\n",
    "    last_invest = 0\n",
    "    ROI = -20\n",
    "    profit = 0\n",
    "    invested = 0\n",
    "    win_odd = [0, 500]\n",
    "    draw_odd = [0, 500]\n",
    "    lose_odd = [0, 500]\n",
    "    odds_array = []\n",
    "    win_odd_best = -1\n",
    "    draw_odd_best = -1\n",
    "    lose_odd_best = -1\n",
    "    number_of_odds = 0\n",
    "    last_best = -10000\n",
    "    total = 0\n",
    "    best_max_feat = -1\n",
    "    best_thres = 0\n",
    "    n = 0 \n",
    "    for dr_pr in draw_array:\n",
    "        for win in win_odd:\n",
    "            for lose in lose_odd:\n",
    "                for draw in draw_odd:                       \n",
    "                    for j in min_samples_leaf:\n",
    "                        clf = DecisionTreeClassifier(max_depth = 8, min_samples_leaf = j, max_features = 'auto', random_state = 6632)\n",
    "                        all_res = []\n",
    "                        all_invest = []\n",
    "                        n = 0\n",
    "                        for s in seasons:\n",
    "                            data_train = data_1[data_1['season'] != s]\n",
    "                            features_train = data_train[['Last_3_games_at_home',\n",
    "                            'Last_3_games_away', 'CL_H', 'CL_A', 'Defense_h', 'Mid_h', 'Attack_h',\n",
    "                            'Defense_a', 'Mid_a', 'Attack_a','B365H', 'B365D', 'B365A']].values\n",
    "                            target_train = data_train[['Class']].values\n",
    "                            data_test = data_1[data_1['season'] == s]\n",
    "                            features_test = data_test[['Last_3_games_at_home',\n",
    "                            'Last_3_games_away', 'CL_H', 'CL_A', 'Defense_h', 'Mid_h', 'Attack_h',\n",
    "                            'Defense_a', 'Mid_a', 'Attack_a','B365H', 'B365D', 'B365A']].values\n",
    "                            target_test = data_test[['Class']].values\n",
    "                            c, r = target_train.shape\n",
    "                            target_train = target_train.reshape(c,)\n",
    "                            c, r = target_test.shape\n",
    "                            target_test = target_test.reshape(c,)\n",
    "                            clf.fit(features_train, target_train)\n",
    "                            Class = data_test['Class'].values\n",
    "                            Book_H = data_test['B365H'].values\n",
    "                            Book_D = data_test['B365D'].values\n",
    "                            Book_A = data_test['B365A'].values\n",
    "                            pred = clf.predict(features_test)\n",
    "                            probs = clf.predict_proba(features_test)\n",
    "                            win_pr = probs[:, 2]\n",
    "                            draw_pr = probs[:, 1]\n",
    "                            lose_pr = probs[:, 0]\n",
    "                            result = []\n",
    "                            invest = []\n",
    "                            for i in range(len(data_test)):\n",
    "                                if draw_pr[i] > dr_pr or pred[i] == 0:\n",
    "                                    pred[i] = 0\n",
    "                                    n = n + 1\n",
    "                                if Class[i] == pred[i]:\n",
    "                                    if Class[i] == 1:\n",
    "                                        result.append((Book_H[i] - 1) * win)\n",
    "                                        invest.append(win)\n",
    "                                    if Class[i] == 0:\n",
    "                                        result.append((Book_D[i] - 1) * draw)\n",
    "                                        invest.append(draw)\n",
    "                                    if Class[i] == -1:\n",
    "                                        result.append((Book_A[i] - 1) * lose)\n",
    "                                        invest.append(lose)\n",
    "                                else:\n",
    "                                    if pred[i] == 1:\n",
    "                                        result.append((-1) * win)\n",
    "                                        invest.append(win)\n",
    "                                    if pred[i] == 0:\n",
    "                                        result.append((-1) * draw)\n",
    "                                        invest.append(draw)\n",
    "                                    if pred[i] == -1:\n",
    "                                        result.append((-1) * lose)\n",
    "                                        invest.append(lose)\n",
    "                            all_res.append(sum(result))\n",
    "                            all_invest.append(sum(invest))\n",
    "                        profit = np.sum(all_res)\n",
    "                        invested = np.sum(all_invest)\n",
    "                        ROI = profit/invested\n",
    "                        if profit > last_profit:\n",
    "                            last_best = ROI\n",
    "                            leaf_best = j\n",
    "                            last_profit = profit\n",
    "                            last_invest = invested\n",
    "                            odds_array = [win, draw, lose]\n",
    "                            best_thres = dr_pr\n",
    "                            number_of_odds = n\n",
    "    print('Total Invested:', last_invest, 'Best_thres:', best_thres, 'min_samples_leaf', leaf_best, 'Total_profit', last_profit, 'ROI', last_best, 'odd vector:', odds_array)\n",
    "best_income_fun_with_prob(np.arange(50, 100, 5), np.arange(0.27, 0.36, 0.01))    "
   ]
  },
  {
   "cell_type": "code",
   "execution_count": 217,
   "metadata": {
    "collapsed": false
   },
   "outputs": [
    {
     "name": "stdout",
     "output_type": "stream",
     "text": [
      "Total Invested: 319500 Best_thres: 0.33 min_samples_leaf 70 Total_profit 38440.0 ROI 0.120312989045 odd vector: [0, 500, 0]\n"
     ]
    }
   ],
   "source": [
    "def best_income_fun_with_prob(min_samples_leaf, draw_array):\n",
    "    leaf_best = 0\n",
    "    last_profit = 0\n",
    "    last_invest = 0\n",
    "    ROI = -20\n",
    "    profit = 0\n",
    "    invested = 0\n",
    "    win_odd = [0, 500]\n",
    "    draw_odd = [0, 500]\n",
    "    lose_odd = [0, 500]\n",
    "    odds_array = []\n",
    "    win_odd_best = -1\n",
    "    draw_odd_best = -1\n",
    "    lose_odd_best = -1\n",
    "    number_of_odds = 0\n",
    "    last_best = -10000\n",
    "    total = 0\n",
    "    best_max_feat = -1\n",
    "    best_thres = 0\n",
    "    n = 0 \n",
    "    for dr_pr in draw_array:\n",
    "        for win in win_odd:\n",
    "            for lose in lose_odd:\n",
    "                for draw in draw_odd:                       \n",
    "                    for j in min_samples_leaf:\n",
    "                        clf = DecisionTreeClassifier(max_depth = 8, min_samples_leaf = j, max_features = 'auto', random_state = 6632)\n",
    "                        all_res = []\n",
    "                        all_invest = []\n",
    "                        n = 0\n",
    "                        for s in seasons:\n",
    "                            data_train = data_1[data_1['season'] != s]\n",
    "                            features_train = data_train[['Last_3_games_at_home',\n",
    "                            'Last_3_games_away', 'CL_H', 'CL_A', 'Defense_h', 'Mid_h', 'Attack_h',\n",
    "                            'Defense_a', 'Mid_a', 'Attack_a','B365H', 'B365D', 'B365A']].values\n",
    "                            target_train = data_train[['Class']].values\n",
    "                            data_test = data_1[data_1['season'] == s]\n",
    "                            features_test = data_test[['Last_3_games_at_home',\n",
    "                            'Last_3_games_away', 'CL_H', 'CL_A', 'Defense_h', 'Mid_h', 'Attack_h',\n",
    "                            'Defense_a', 'Mid_a', 'Attack_a','B365H', 'B365D', 'B365A']].values\n",
    "                            target_test = data_test[['Class']].values\n",
    "                            c, r = target_train.shape\n",
    "                            target_train = target_train.reshape(c,)\n",
    "                            c, r = target_test.shape\n",
    "                            target_test = target_test.reshape(c,)\n",
    "                            clf.fit(features_train, target_train)\n",
    "                            Class = data_test['Class'].values\n",
    "                            Book_H = data_test['B365H'].values\n",
    "                            Book_D = data_test['B365D'].values\n",
    "                            Book_A = data_test['B365A'].values\n",
    "                            pred = clf.predict(features_test)\n",
    "                            probs = clf.predict_proba(features_test)\n",
    "                            win_pr = probs[:, 2]\n",
    "                            draw_pr = probs[:, 1]\n",
    "                            lose_pr = probs[:, 0]\n",
    "                            result = []\n",
    "                            invest = []\n",
    "                            for i in range(len(data_test)):\n",
    "                                if draw_pr[i] > dr_pr or pred[i] == 0:\n",
    "                                    pred[i] = 0\n",
    "                                    n = n + 1\n",
    "                                if Class[i] == pred[i]:\n",
    "                                    if Class[i] == 1:\n",
    "                                        result.append((Book_H[i] - 1) * win)\n",
    "                                        invest.append(win)\n",
    "                                    if Class[i] == 0:\n",
    "                                        result.append((Book_D[i] - 1) * draw)\n",
    "                                        invest.append(draw)\n",
    "                                    if Class[i] == -1:\n",
    "                                        result.append((Book_A[i] - 1) * lose)\n",
    "                                        invest.append(lose)\n",
    "                                else:\n",
    "                                    if pred[i] == 1:\n",
    "                                        result.append((-1) * win)\n",
    "                                        invest.append(win)\n",
    "                                    if pred[i] == 0:\n",
    "                                        result.append((-1) * draw)\n",
    "                                        invest.append(draw)\n",
    "                                    if pred[i] == -1:\n",
    "                                        result.append((-1) * lose)\n",
    "                                        invest.append(lose)\n",
    "                            all_res.append(sum(result))\n",
    "                            all_invest.append(sum(invest))\n",
    "                        profit = np.sum(all_res)\n",
    "                        invested = np.sum(all_invest)\n",
    "                        ROI = profit/invested\n",
    "                        if ROI > last_best:\n",
    "                            last_best = ROI\n",
    "                            leaf_best = j\n",
    "                            last_profit = profit\n",
    "                            last_invest = invested\n",
    "                            odds_array = [win, draw, lose]\n",
    "                            best_thres = dr_pr\n",
    "                            number_of_odds = n\n",
    "    print('Total Invested:', last_invest, 'Best_thres:', best_thres, 'min_samples_leaf', leaf_best, 'Total_profit', last_profit, 'ROI', last_best, 'odd vector:', odds_array)\n",
    "best_income_fun_with_prob(np.arange(50, 100, 5), np.arange(0.27, 0.36, 0.01))    "
   ]
  },
  {
   "cell_type": "markdown",
   "metadata": {},
   "source": [
    "# AdaBoost"
   ]
  },
  {
   "cell_type": "code",
   "execution_count": null,
   "metadata": {
    "collapsed": true
   },
   "outputs": [],
   "source": [
    "Подбор параметров для Accuracy"
   ]
  },
  {
   "cell_type": "code",
   "execution_count": 94,
   "metadata": {
    "collapsed": false
   },
   "outputs": [
    {
     "name": "stdout",
     "output_type": "stream",
     "text": [
      "BEST RESULT = best_est 56 accuracy =  0.508622032448\n"
     ]
    }
   ],
   "source": [
    "from sklearn.ensemble import AdaBoostClassifier\n",
    "def best_params_AdaBoost(n_est):\n",
    "    best_acc = 0\n",
    "    best_est = 0\n",
    "    for j in n_est:\n",
    "        clf = AdaBoostClassifier(algorithm = 'SAMME.R', n_estimators = j, random_state = 6632)\n",
    "        scores = cross_val_score(clf, features, target, cv=5)\n",
    "        if np.mean(scores) > best_acc:\n",
    "            best_acc = np.mean(scores)\n",
    "            best_est = j\n",
    "    print('BEST RESULT = ''best_est', best_est, 'accuracy = ', best_acc)\n",
    "best_params_AdaBoost(np.arange(40, 70, 1))"
   ]
  },
  {
   "cell_type": "markdown",
   "metadata": {},
   "source": [
    "Confusion matrix:"
   ]
  },
  {
   "cell_type": "code",
   "execution_count": 165,
   "metadata": {
    "collapsed": false
   },
   "outputs": [
    {
     "name": "stdout",
     "output_type": "stream",
     "text": [
      "0.517706576728\n",
      "Confusion matrix, without normalization\n",
      "[[ 77  34  70]\n",
      " [ 39  25  77]\n",
      " [ 32  34 205]]\n"
     ]
    },
    {
     "data": {
      "image/png": "[encoded data removed]",
      "text/plain": [
       "<matplotlib.figure.Figure at 0x118ce0550>"
      ]
     },
     "metadata": {},
     "output_type": "display_data"
    }
   ],
   "source": [
    "features = preprocessing.scale(features)\n",
    "X_train, X_test, y_train, y_test = train_test_split(\n",
    "    features, target, test_size=0.2, random_state=6632)\n",
    "clf = AdaBoostClassifier(algorithm = 'SAMME.R', n_estimators = 56)\n",
    "clf.fit(X_train, y_train)\n",
    "print(accuracy_score(y_test, clf.predict(X_test)))\n",
    "# Compute confusion matrix\n",
    "cnf_matrix = confusion_matrix(y_test, clf.predict(X_test))\n",
    "np.set_printoptions(precision=2)\n",
    "\n",
    "# Plot non-normalized confusion matrix\n",
    "plt.figure()\n",
    "plot_confusion_matrix(cnf_matrix, classes=['AW', 'DR', 'HW'], title='Confusion matrix, without normalization')"
   ]
  },
  {
   "cell_type": "code",
   "execution_count": 197,
   "metadata": {
    "collapsed": false
   },
   "outputs": [
    {
     "name": "stdout",
     "output_type": "stream",
     "text": [
      "For season 2008/2009 Invested: 174000 Profit -6980.0 ROI -0.0401149425287\n",
      "For season 2009/2010 Invested: 186500 Profit -9910.0 ROI -0.0531367292225\n",
      "For season 2010/2011 Invested: 183500 Profit -8860.0 ROI -0.0482833787466\n",
      "For season 2011/2012 Invested: 183500 Profit -2415.0 ROI -0.0131607629428\n",
      "For season 2012/2013 Invested: 190000 Profit 485.0 ROI 0.00255263157895\n",
      "For season 2013/2014 Invested: 189000 Profit 12560.0 ROI 0.066455026455\n",
      "For season 2014/2015 Invested: 185500 Profit 415.0 ROI 0.0022371967655\n",
      "For season 2015/2016 Invested: 188500 Profit -23985.0 ROI -0.12724137931\n",
      "SUMMARY Invested: 1480500 Profit: -38690.0 ROI: -0.0261330631543\n"
     ]
    }
   ],
   "source": [
    "seasons = ['2008/2009', '2009/2010', '2010/2011', '2011/2012', '2012/2013', '2013/2014', '2014/2015', '2015/2016']\n",
    "def income_fun():\n",
    "    clf = AdaBoostClassifier(algorithm = 'SAMME.R', n_estimators = 56)\n",
    "    all_res = []\n",
    "    invested = []\n",
    "    ROI = []\n",
    "    total = 0\n",
    "    for s in seasons:\n",
    "        data_train = data_1[data_1['season'] != s]\n",
    "        features_train = data_train[['Last_3_games_at_home',\n",
    "       'Last_3_games_away', 'CL_H', 'CL_A', 'Defense_h', 'Mid_h', 'Attack_h',\n",
    "        'Defense_a', 'Mid_a', 'Attack_a','B365H', 'B365D', 'B365A']].values\n",
    "        features_train = preprocessing.scale(features_train)\n",
    "        target_train = data_train[['Class']].values\n",
    "        data_test = data_1[data_1['season'] == s]\n",
    "        features_test = data_test[['Last_3_games_at_home',\n",
    "        'Last_3_games_away', 'CL_H', 'CL_A', 'Defense_h', 'Mid_h', 'Attack_h',\n",
    "        'Defense_a', 'Mid_a', 'Attack_a','B365H', 'B365D', 'B365A']].values\n",
    "        features_test = preprocessing.scale(features_test)\n",
    "        target_test = data_test[['Class']].values\n",
    "        c, r = target_train.shape\n",
    "        target_train = target_train.reshape(c,)\n",
    "        c, r = target_test.shape\n",
    "        target_test = target_test.reshape(c,)\n",
    "        clf.fit(features_train, target_train)\n",
    "        win_odd = [500]\n",
    "        draw_odd = [500]\n",
    "        lose_odd = [500]\n",
    "        Class = data_test['Class'].values\n",
    "        Book_H = data_test['B365H'].values\n",
    "        Book_D = data_test['B365D'].values\n",
    "        Book_A = data_test['B365A'].values\n",
    "        pred = clf.predict(features_test)\n",
    "        for win in win_odd:\n",
    "            for lose in lose_odd:\n",
    "                for draw in draw_odd:\n",
    "                    result = []\n",
    "                    for i in range(len(data_test)):\n",
    "                        if Class[i] == pred[i]:\n",
    "                            if Class[i] == 1:\n",
    "                                result.append((Book_H[i] - 1) * win)\n",
    "                            if Class[i] == 0:\n",
    "                                result.append((Book_D[i] - 1) * draw)\n",
    "                            if Class[i] == -1:\n",
    "                                result.append((Book_A[i] - 1) * lose)\n",
    "                        else:\n",
    "                            if pred[i] == 1:\n",
    "                                result.append((-1) * win)\n",
    "                            if pred[i] == 0:\n",
    "                                result.append((-1) * draw)\n",
    "                            if pred[i] == -1:\n",
    "                                result.append((-1) * lose)\n",
    "        all_res.append(sum(result))\n",
    "        invested.append(500*len(result))\n",
    "        ROI.append(sum(result)/(500*len(result)))\n",
    "    for s in range(len(seasons)):\n",
    "        print('For season', seasons[s], 'Invested:', invested[s], 'Profit', all_res[s], 'ROI', ROI[s])\n",
    "    print('SUMMARY', 'Invested:', sum(invested), 'Profit:', sum(all_res), 'ROI:', sum(all_res)/sum(invested))\n",
    "income_fun()  "
   ]
  },
  {
   "cell_type": "code",
   "execution_count": 209,
   "metadata": {
    "collapsed": false
   },
   "outputs": [
    {
     "name": "stdout",
     "output_type": "stream",
     "text": [
      "n_est_best: 40 Profit 20725.0 Invested: 76000 odds_vestor [0, 500, 0] ROI 0.272697368421\n"
     ]
    }
   ],
   "source": [
    "seasons = ['2008/2009', '2009/2010', '2010/2011', '2011/2012', '2012/2013', '2013/2014', '2014/2015', '2015/2016']\n",
    "\n",
    "def best_income_fun(n_est):\n",
    "    n_est_best = 0\n",
    "    win_odd = [0, 500]\n",
    "    draw_odd = [0, 500]\n",
    "    lose_odd = [0, 500]\n",
    "    best_odd = []\n",
    "    Total_invested = 0\n",
    "    Total_profit = 0\n",
    "    last_best = -20\n",
    "    for win in win_odd:\n",
    "        for lose in lose_odd:\n",
    "            for draw in draw_odd:\n",
    "                for x in n_est:\n",
    "                    clf = AdaBoostClassifier(algorithm = 'SAMME.R', n_estimators = x)\n",
    "                    all_res = []\n",
    "                    all_invest = []\n",
    "                    total = 0\n",
    "                    profit = 0\n",
    "                    invested = 0\n",
    "                    ROI = 0 \n",
    "                    for s in seasons:\n",
    "                        data_train = data_1[data_1['season'] != s]\n",
    "                        features_train = data_train[['Last_3_games_at_home',\n",
    "                       'Last_3_games_away', 'CL_H', 'CL_A', 'Defense_h', 'Mid_h', 'Attack_h',\n",
    "                        'Defense_a', 'Mid_a', 'Attack_a','B365H', 'B365D', 'B365A']].values\n",
    "                        features_train = preprocessing.scale(features_train)\n",
    "                        target_train = data_train[['Class']].values\n",
    "                        data_test = data_1[data_1['season'] == s]\n",
    "                        features_test = data_test[['Last_3_games_at_home',\n",
    "                        'Last_3_games_away', 'CL_H', 'CL_A', 'Defense_h', 'Mid_h', 'Attack_h',\n",
    "                        'Defense_a', 'Mid_a', 'Attack_a','B365H', 'B365D', 'B365A']].values\n",
    "                        features_test = preprocessing.scale(features_test)\n",
    "                        target_test = data_test[['Class']].values\n",
    "                        c, r = target_train.shape\n",
    "                        target_train = target_train.reshape(c,)\n",
    "                        c, r = target_test.shape\n",
    "                        target_test = target_test.reshape(c,)\n",
    "                        clf.fit(features_train, target_train)\n",
    "                        Class = data_test['Class'].values\n",
    "                        Book_H = data_test['B365H'].values\n",
    "                        Book_D = data_test['B365D'].values\n",
    "                        Book_A = data_test['B365A'].values\n",
    "                        pred = clf.predict(features_test)\n",
    "                        best_res = -10000\n",
    "                        result = []\n",
    "                        invest = []\n",
    "                        for i in range(len(data_test)):\n",
    "                            if Class[i] == pred[i]:\n",
    "                                if Class[i] == 1:\n",
    "                                    result.append((Book_H[i] - 1) * win)\n",
    "                                    invest.append(win)\n",
    "                                if Class[i] == 0:\n",
    "                                    result.append((Book_D[i] - 1) * draw)\n",
    "                                    invest.append(draw)\n",
    "                                if Class[i] == -1:\n",
    "                                    result.append((Book_A[i] - 1) * lose)\n",
    "                                    invest.append(lose)\n",
    "                            else:\n",
    "                                if pred[i] == 1:\n",
    "                                    result.append((-1) * win)\n",
    "                                    invest.append(win)\n",
    "                                if pred[i] == 0:\n",
    "                                    result.append((-1) * draw)\n",
    "                                    invest.append(draw)\n",
    "                                if pred[i] == -1:\n",
    "                                    result.append((-1) * lose)\n",
    "                                    invest.append(lose)\n",
    "                        all_res.append(sum(result))\n",
    "                        all_invest.append(sum(invest))\n",
    "                    profit = np.sum(all_res)\n",
    "                    invested = np.sum(all_invest)\n",
    "                    ROI = profit/invested\n",
    "                    if ROI > last_best:\n",
    "                        last_best = ROI\n",
    "                        n_est_best = x\n",
    "                        Total_invested = invested\n",
    "                        Total_profit = profit\n",
    "                        best_odd = [win, draw, lose]\n",
    "    print('n_est_best:', n_est_best, 'Profit', Total_profit,'Invested:', Total_invested,'odds_vestor', best_odd, 'ROI', last_best)\n",
    "best_income_fun(np.arange(10, 100, 5))    "
   ]
  },
  {
   "cell_type": "code",
   "execution_count": null,
   "metadata": {
    "collapsed": true
   },
   "outputs": [],
   "source": []
  },
  {
   "cell_type": "code",
   "execution_count": 210,
   "metadata": {
    "collapsed": false
   },
   "outputs": [
    {
     "name": "stdout",
     "output_type": "stream",
     "text": [
      "For season 2008/2009 Invested: 12000 Profit 4350.0 ROI 0.3625\n",
      "For season 2009/2010 Invested: 14500 Profit 650.0 ROI 0.0448275862069\n",
      "For season 2010/2011 Invested: 9500 Profit 2525.0 ROI 0.265789473684\n",
      "For season 2011/2012 Invested: 9000 Profit -725.0 ROI -0.0805555555556\n",
      "For season 2012/2013 Invested: 13500 Profit 6975.0 ROI 0.516666666667\n",
      "For season 2013/2014 Invested: 4000 Profit 2800.0 ROI 0.7\n",
      "For season 2014/2015 Invested: 6000 Profit 2725.0 ROI 0.454166666667\n",
      "For season 2015/2016 Invested: 7500 Profit 1425.0 ROI 0.19\n",
      "SUMMARY Invested: 76000 Profit: 20725.0 ROI: 0.272697368421\n"
     ]
    }
   ],
   "source": [
    "seasons = ['2008/2009', '2009/2010', '2010/2011', '2011/2012', '2012/2013', '2013/2014', '2014/2015', '2015/2016']\n",
    "def income_fun():\n",
    "    clf = AdaBoostClassifier(algorithm = 'SAMME.R', n_estimators = 40)\n",
    "    all_res = []\n",
    "    invested = []\n",
    "    ROI = []\n",
    "    total = 0\n",
    "    for s in seasons:\n",
    "        data_train = data_1[data_1['season'] != s]\n",
    "        features_train = data_train[['Last_3_games_at_home',\n",
    "       'Last_3_games_away', 'CL_H', 'CL_A', 'Defense_h', 'Mid_h', 'Attack_h',\n",
    "        'Defense_a', 'Mid_a', 'Attack_a','B365H', 'B365D', 'B365A']].values\n",
    "        features_train = preprocessing.scale(features_train)\n",
    "        target_train = data_train[['Class']].values\n",
    "        data_test = data_1[data_1['season'] == s]\n",
    "        features_test = data_test[['Last_3_games_at_home',\n",
    "        'Last_3_games_away', 'CL_H', 'CL_A', 'Defense_h', 'Mid_h', 'Attack_h',\n",
    "        'Defense_a', 'Mid_a', 'Attack_a','B365H', 'B365D', 'B365A']].values\n",
    "        features_test = preprocessing.scale(features_test)\n",
    "        target_test = data_test[['Class']].values\n",
    "        c, r = target_train.shape\n",
    "        target_train = target_train.reshape(c,)\n",
    "        c, r = target_test.shape\n",
    "        target_test = target_test.reshape(c,)\n",
    "        clf.fit(features_train, target_train)\n",
    "        win_odd = [0]\n",
    "        draw_odd = [500]\n",
    "        lose_odd = [0]\n",
    "        Class = data_test['Class'].values\n",
    "        Book_H = data_test['B365H'].values\n",
    "        Book_D = data_test['B365D'].values\n",
    "        Book_A = data_test['B365A'].values\n",
    "        pred = clf.predict(features_test)\n",
    "        for win in win_odd:\n",
    "            for lose in lose_odd:\n",
    "                for draw in draw_odd:\n",
    "                    result = []\n",
    "                    invest = []\n",
    "                    for i in range(len(data_test)):\n",
    "                        if Class[i] == pred[i]:\n",
    "                            if Class[i] == 1:\n",
    "                                result.append((Book_H[i] - 1) * win)\n",
    "                                invest.append(win)\n",
    "                            if Class[i] == 0:\n",
    "                                result.append((Book_D[i] - 1) * draw)\n",
    "                                invest.append(draw)\n",
    "                            if Class[i] == -1:\n",
    "                                result.append((Book_A[i] - 1) * lose)\n",
    "                                invest.append(lose)\n",
    "                        else:\n",
    "                            if pred[i] == 1:\n",
    "                                result.append((-1) * win)\n",
    "                                invest.append(win)\n",
    "                            if pred[i] == 0:\n",
    "                                result.append((-1) * draw)\n",
    "                                invest.append(draw)\n",
    "                            if pred[i] == -1:\n",
    "                                result.append((-1) * lose)\n",
    "                                invest.append(lose)\n",
    "        all_res.append(sum(result))\n",
    "        invested.append(sum(invest))\n",
    "        ROI.append(sum(result)/sum(invest))\n",
    "    for s in range(len(seasons)):\n",
    "        print('For season', seasons[s], 'Invested:', invested[s], 'Profit', all_res[s], 'ROI', ROI[s])\n",
    "    print('SUMMARY', 'Invested:', sum(invested), 'Profit:', sum(all_res), 'ROI:', sum(all_res)/sum(invested))\n",
    "income_fun()  "
   ]
  },
  {
   "cell_type": "code",
   "execution_count": 218,
   "metadata": {
    "collapsed": false
   },
   "outputs": [
    {
     "name": "stdout",
     "output_type": "stream",
     "text": [
      "Total Invested: 128000 Best_thres: 0.35 min_samples_leaf 60 Total_profit 17775.0 ROI 0.1388671875 odd vector: [0, 500, 0]\n"
     ]
    }
   ],
   "source": [
    "def best_income_fun_with_prob(n_est, draw_array):\n",
    "    leaf_best = 0\n",
    "    last_profit = 0\n",
    "    last_invest = 0\n",
    "    ROI = -20\n",
    "    profit = 0\n",
    "    invested = 0\n",
    "    win_odd = [0, 500]\n",
    "    draw_odd = [0, 500]\n",
    "    lose_odd = [0, 500]\n",
    "    odds_array = []\n",
    "    win_odd_best = -1\n",
    "    draw_odd_best = -1\n",
    "    lose_odd_best = -1\n",
    "    number_of_odds = 0\n",
    "    last_best = -10000\n",
    "    total = 0\n",
    "    best_max_feat = -1\n",
    "    best_thres = 0\n",
    "    n = 0 \n",
    "    for dr_pr in draw_array:\n",
    "        for win in win_odd:\n",
    "            for lose in lose_odd:\n",
    "                for draw in draw_odd:                       \n",
    "                    for j in n_est:\n",
    "                        clf = AdaBoostClassifier(algorithm = 'SAMME.R', n_estimators = j)\n",
    "                        all_res = []\n",
    "                        all_invest = []\n",
    "                        n = 0\n",
    "                        for s in seasons:\n",
    "                            data_train = data_1[data_1['season'] != s]\n",
    "                            features_train = data_train[['Last_3_games_at_home',\n",
    "                            'Last_3_games_away', 'CL_H', 'CL_A', 'Defense_h', 'Mid_h', 'Attack_h',\n",
    "                            'Defense_a', 'Mid_a', 'Attack_a','B365H', 'B365D', 'B365A']].values\n",
    "                            features_train = preprocessing.scale(features_train)\n",
    "                            target_train = data_train[['Class']].values\n",
    "                            data_test = data_1[data_1['season'] == s]\n",
    "                            features_test = data_test[['Last_3_games_at_home',\n",
    "                            'Last_3_games_away', 'CL_H', 'CL_A', 'Defense_h', 'Mid_h', 'Attack_h',\n",
    "                            'Defense_a', 'Mid_a', 'Attack_a','B365H', 'B365D', 'B365A']].values\n",
    "                            features_test = preprocessing.scale(features_test)\n",
    "                            target_test = data_test[['Class']].values\n",
    "                            c, r = target_train.shape\n",
    "                            target_train = target_train.reshape(c,)\n",
    "                            c, r = target_test.shape\n",
    "                            target_test = target_test.reshape(c,)\n",
    "                            clf.fit(features_train, target_train)\n",
    "                            Class = data_test['Class'].values\n",
    "                            Book_H = data_test['B365H'].values\n",
    "                            Book_D = data_test['B365D'].values\n",
    "                            Book_A = data_test['B365A'].values\n",
    "                            pred = clf.predict(features_test)\n",
    "                            probs = clf.predict_proba(features_test)\n",
    "                            win_pr = probs[:, 2]\n",
    "                            draw_pr = probs[:, 1]\n",
    "                            lose_pr = probs[:, 0]\n",
    "                            result = []\n",
    "                            invest = []\n",
    "                            for i in range(len(data_test)):\n",
    "                                if draw_pr[i] > dr_pr or pred[i] == 0:\n",
    "                                    pred[i] = 0\n",
    "                                    n = n + 1\n",
    "                                if Class[i] == pred[i]:\n",
    "                                    if Class[i] == 1:\n",
    "                                        result.append((Book_H[i] - 1) * win)\n",
    "                                        invest.append(win)\n",
    "                                    if Class[i] == 0:\n",
    "                                        result.append((Book_D[i] - 1) * draw)\n",
    "                                        invest.append(draw)\n",
    "                                    if Class[i] == -1:\n",
    "                                        result.append((Book_A[i] - 1) * lose)\n",
    "                                        invest.append(lose)\n",
    "                                else:\n",
    "                                    if pred[i] == 1:\n",
    "                                        result.append((-1) * win)\n",
    "                                        invest.append(win)\n",
    "                                    if pred[i] == 0:\n",
    "                                        result.append((-1) * draw)\n",
    "                                        invest.append(draw)\n",
    "                                    if pred[i] == -1:\n",
    "                                        result.append((-1) * lose)\n",
    "                                        invest.append(lose)\n",
    "                            all_res.append(sum(result))\n",
    "                            all_invest.append(sum(invest))\n",
    "                        profit = np.sum(all_res)\n",
    "                        invested = np.sum(all_invest)\n",
    "                        ROI = profit/invested\n",
    "                        if profit > last_profit:\n",
    "                            last_best = ROI\n",
    "                            leaf_best = j\n",
    "                            last_profit = profit\n",
    "                            last_invest = invested\n",
    "                            odds_array = [win, draw, lose]\n",
    "                            best_thres = dr_pr\n",
    "                            number_of_odds = n\n",
    "    print('Total Invested:', last_invest, 'Best_thres:', best_thres, 'min_samples_leaf', leaf_best, 'Total_profit', last_profit, 'ROI', last_best, 'odd vector:', odds_array)\n",
    "best_income_fun_with_prob(np.arange(50, 100, 5), np.arange(0.27, 0.36, 0.01))    "
   ]
  },
  {
   "cell_type": "markdown",
   "metadata": {},
   "source": [
    "# Прочие графики"
   ]
  },
  {
   "cell_type": "code",
   "execution_count": 195,
   "metadata": {
    "collapsed": false
   },
   "outputs": [
    {
     "data": {
      "image/png": "[encoded data removed]",
      "text/plain": [
       "<matplotlib.figure.Figure at 0x124029da0>"
      ]
     },
     "metadata": {},
     "output_type": "display_data"
    }
   ],
   "source": [
    "bins = np.linspace(1, 6, 50)\n",
    "f,ax=plt.subplots(figsize=(13,10))\n",
    "plt.xlabel('coefficient', size = 30)\n",
    "plt.hist(data_1['B365D'], bins, alpha=0.6)\n",
    "ax.axvline(np.median(data_1['B365D']), color='r', linestyle='--',label='mean')\n",
    "plt.hist(data_1['B365H'], bins, alpha=0.6)\n",
    "ax.axvline(np.median(data_1['B365H']), color='b', linestyle='--',label='mean') \n",
    "plt.legend(['Draw_mean', 'Home_mean', 'Draw', 'Home_win'], prop={'size':24})\n",
    "plt.tick_params(axis='both', which='major', labelsize=22)\n",
    "plt.savefig('lol.png')"
   ]
  },
  {
   "cell_type": "code",
   "execution_count": 198,
   "metadata": {
    "collapsed": false
   },
   "outputs": [
    {
     "data": {
      "image/png": "[encoded data removed]",
      "text/plain": [
       "<matplotlib.figure.Figure at 0x125408400>"
      ]
     },
     "metadata": {},
     "output_type": "display_data"
    }
   ],
   "source": [
    "bins = np.linspace(1, 6, 50)\n",
    "f,ax=plt.subplots(figsize=(13,10))\n",
    "plt.xlabel('coefficient', size = 30)\n",
    "plt.hist(data_1['B365D'], bins, alpha=0.6)\n",
    "ax.axvline(np.median(data_1['B365D']), color='r', linestyle='--',label='mean')\n",
    "plt.hist(data_1['B365A'], bins, alpha=0.6)\n",
    "ax.axvline(np.median(data_1['B365A']), color='b', linestyle='--',label='mean') \n",
    "plt.legend(['Draw_median', 'Away_median', 'Draw', 'Away_win'], prop={'size':24})\n",
    "plt.tick_params(axis='both', which='major', labelsize=22)\n",
    "plt.savefig('lol.png')"
   ]
  },
  {
   "cell_type": "code",
   "execution_count": 149,
   "metadata": {
    "collapsed": false
   },
   "outputs": [
    {
     "data": {
      "image/png": "[encoded data removed]",
      "text/plain": [
       "<matplotlib.figure.Figure at 0x11df87438>"
      ]
     },
     "metadata": {},
     "output_type": "display_data"
    }
   ],
   "source": [
    "width = 5\n",
    "height = 4\n",
    "plt.figure(figsize=(width, height))\n",
    "data_1['Class_name'] = data_1['Class'].map({-1: 'Away_win', 0: 'Draw', 1:'Home_win'})\n",
    "data_1['Class_name'].value_counts().plot(kind='barh')\n",
    "plt.title('Исходы матчей')\n",
    "plt.savefig('foo.png')"
   ]
  },
  {
   "cell_type": "code",
   "execution_count": 118,
   "metadata": {
    "collapsed": false
   },
   "outputs": [],
   "source": [
    "data_2 = data_1[['Last_H_5_games_points_total',\n",
    "       'Last_A_5_games_points_total', 'Last_3_games_at_home',\n",
    "       'Last_3_games_away', 'CL_H', 'CL_A', 'EL_H', 'EL_A', 'GK_h', 'Defense_h', 'Mid_h', 'Attack_h', 'GK_a',\n",
    "       'Defense_a', 'Mid_a', 'Attack_a', 'B365H', 'B365D', 'B365A', 'Class']]"
   ]
  },
  {
   "cell_type": "code",
   "execution_count": 141,
   "metadata": {
    "collapsed": false
   },
   "outputs": [
    {
     "data": {
      "text/plain": [
       "<matplotlib.axes._subplots.AxesSubplot at 0x11d2fde48>"
      ]
     },
     "execution_count": 141,
     "metadata": {},
     "output_type": "execute_result"
    },
    {
     "data": {
      "image/png": "[encoded data removed]",
      "text/plain": [
       "<matplotlib.figure.Figure at 0x119fcd048>"
      ]
     },
     "metadata": {},
     "output_type": "display_data"
    }
   ],
   "source": [
    "import seaborn as sns\n",
    "width = 12\n",
    "height = 10\n",
    "plt.figure(figsize=(width, height))\n",
    "corr = data_2.corr()\n",
    "sns.heatmap(corr, \n",
    "            xticklabels=corr.columns.values,\n",
    "            yticklabels=corr.columns.values, linewidths=.5, cmap=\"YlGnBu\")"
   ]
  },
  {
   "cell_type": "code",
   "execution_count": 127,
   "metadata": {
    "collapsed": false
   },
   "outputs": [],
   "source": [
    "data_2.columns = ['Last_H_5',\n",
    "       'Last_A_5', 'Last_3_home',\n",
    "       'Last_3_away', 'CL_H', 'CL_A', 'EL_H', 'EL_A', 'GK_h', 'Defense_h', 'Mid_h', 'Attack_h', 'GK_a',\n",
    "       'Defense_a', 'Mid_a', 'Attack_a', 'B365H', 'B365D', 'B365A', 'Class']"
   ]
  },
  {
   "cell_type": "code",
   "execution_count": 70,
   "metadata": {
    "collapsed": false
   },
   "outputs": [],
   "source": [
    "data_book = pd.read_excel('/Users/admin/Desktop/Football_db/APL_last_data2.xlsx', sheetname = 'Book')"
   ]
  },
  {
   "cell_type": "code",
   "execution_count": 89,
   "metadata": {
    "collapsed": false
   },
   "outputs": [
    {
     "name": "stdout",
     "output_type": "stream",
     "text": [
      "Confusion matrix, without normalization\n",
      "[[ 427    0  420]\n",
      " [ 230    0  536]\n",
      " [ 207    0 1141]]\n"
     ]
    },
    {
     "data": {
      "image/png": "[encoded data removed]",
      "text/plain": [
       "<matplotlib.figure.Figure at 0x114cc7438>"
      ]
     },
     "metadata": {},
     "output_type": "display_data"
    }
   ],
   "source": [
    "target123 = data_book['Class'].values\n",
    "target1234 = data_book['Book_class'].values\n",
    "cnf_matrix = confusion_matrix(target123, target1234)\n",
    "np.set_printoptions(precision=2)\n",
    "\n",
    "# Plot non-normalized confusion matrix\n",
    "plt.figure()\n",
    "plot_confusion_matrix(cnf_matrix, classes=['AW', 'DR', 'HW'], title='Confusion matrix, without normalization')"
   ]
  },
  {
   "cell_type": "code",
   "execution_count": 221,
   "metadata": {
    "collapsed": false
   },
   "outputs": [
    {
     "name": "stdout",
     "output_type": "stream",
     "text": [
      "0.512647554806\n",
      "Confusion matrix, without normalization\n",
      "[[ 82   0  88]\n",
      " [ 60   0 101]\n",
      " [ 40   0 222]]\n"
     ]
    },
    {
     "data": {
      "image/png": "[encoded data removed]",
      "text/plain": [
       "<matplotlib.figure.Figure at 0x118c1d1d0>"
      ]
     },
     "metadata": {},
     "output_type": "display_data"
    }
   ],
   "source": [
    "cnf_matrix = confusion_matrix(y_test, X_test)\n",
    "np.set_printoptions(precision=2)\n",
    "print(accuracy_score(y_test,X_test))\n",
    "# Plot non-normalized confusion matrix\n",
    "plt.figure()\n",
    "plot_confusion_matrix(cnf_matrix, classes=['AW', 'DR', 'HW'], title='Confusion matrix, without normalization')"
   ]
  },
  {
   "cell_type": "code",
   "execution_count": 220,
   "metadata": {
    "collapsed": false
   },
   "outputs": [],
   "source": [
    "X_train, X_test, y_train, y_test = train_test_split(\n",
    "    target1234, target123, test_size=0.2, random_state = 666)"
   ]
  },
  {
   "cell_type": "code",
   "execution_count": 118,
   "metadata": {
    "collapsed": false
   },
   "outputs": [
    {
     "data": {
      "text/plain": [
       "0.52955082742316784"
      ]
     },
     "execution_count": 118,
     "metadata": {},
     "output_type": "execute_result"
    }
   ],
   "source": [
    "from sklearn.metrics import accuracy_score\n",
    "accuracy_score(target123, target1234)"
   ]
  },
  {
   "cell_type": "markdown",
   "metadata": {},
   "source": [
    "# Summaries"
   ]
  },
  {
   "cell_type": "markdown",
   "metadata": {},
   "source": [
    "1 task. Best accuracy"
   ]
  },
  {
   "cell_type": "code",
   "execution_count": 56,
   "metadata": {
    "collapsed": false
   },
   "outputs": [
    {
     "data": {
      "image/png": "[encoded data removed]",
      "text/plain": [
       "<matplotlib.figure.Figure at 0x10fccf048>"
      ]
     },
     "metadata": {},
     "output_type": "display_data"
    }
   ],
   "source": [
    "%matplotlib inline\n",
    "import matplotlib.pyplot as plt\n",
    "import numpy as np\n",
    "names = ['RandomForest', 'SVM', 'AdaBoost', 'Bookmakers', 'DecisionTree']\n",
    "accuracy = [0.56, 0.53, 0.52, 0.51, 0.50]\n",
    "ax = plt.subplot()\n",
    "plt.gcf().subplots_adjust(left=0.2)\n",
    "ax.barh(range(len(names)), accuracy, 1/1.5, alpha = 0.4, color = ['g', 'g', 'g', 'r', 'g'])\n",
    "ax.set_xlim([0.35, 0.65])\n",
    "plt.yticks(range(len(names)), names)\n",
    "plt.title('Accuracy')\n",
    "for i, v in enumerate(accuracy):\n",
    "    ax.text(v + 0.01, i , str(v), color='blue', fontweight='bold')\n",
    "plt.savefig('foo.png')"
   ]
  },
  {
   "cell_type": "code",
   "execution_count": 95,
   "metadata": {
    "collapsed": false
   },
   "outputs": [
    {
     "data": {
      "image/png": "[encoded data removed]",
      "text/plain": [
       "<matplotlib.figure.Figure at 0x110b09208>"
      ]
     },
     "metadata": {},
     "output_type": "display_data"
    }
   ],
   "source": [
    "names = ['RandomForest', 'SVM', 'AdaBoost','DecisionTree']\n",
    "accuracy = [-0.048, -0.065, -0.026, -0.028]\n",
    "ax = plt.subplot()\n",
    "plt.gcf().subplots_adjust(left=0.2)\n",
    "ax.barh(range(len(names)), accuracy, 1/1.5, alpha = 0.4, color = 'r')\n",
    "ax.set_xlim([-0.1, 0])\n",
    "plt.yticks(range(len(names)), names)\n",
    "plt.title('ROI')\n",
    "for i, v in enumerate(accuracy):\n",
    "    ax.text(v - 0.015, i , str(v), color='black', fontweight='bold')\n",
    "plt.savefig('foo.png')"
   ]
  },
  {
   "cell_type": "code",
   "execution_count": 96,
   "metadata": {
    "collapsed": false
   },
   "outputs": [
    {
     "data": {
      "image/png": "[encoded data removed]",
      "text/plain": [
       "<matplotlib.figure.Figure at 0x110919d68>"
      ]
     },
     "metadata": {},
     "output_type": "display_data"
    }
   ],
   "source": [
    "names = ['RandomForest', 'SVM', 'AdaBoost','DecisionTree']\n",
    "accuracy = [1.06, -0.003, 0.27, 0.14]\n",
    "ax = plt.subplot()\n",
    "plt.gcf().subplots_adjust(left=0.2)\n",
    "ax.barh(range(len(names)), accuracy, 1/1.5, alpha = 0.4, color = ['g', 'r','g','g'])\n",
    "ax.set_xlim([-0.1, 1.2])\n",
    "plt.yticks(range(len(names)), names)\n",
    "plt.title('ROI')\n",
    "for i, v in enumerate(accuracy):\n",
    "    ax.text(v + 0.015, i , str(v), color='black', fontweight='bold')\n",
    "plt.savefig('foo.png')"
   ]
  },
  {
   "cell_type": "code",
   "execution_count": 90,
   "metadata": {
    "collapsed": false
   },
   "outputs": [
    {
     "data": {
      "image/png": "[encoded data removed]",
      "text/plain": [
       "<matplotlib.figure.Figure at 0x1109a17b8>"
      ]
     },
     "metadata": {},
     "output_type": "display_data"
    }
   ],
   "source": [
    "names = ['RandomForest', 'SVM', 'AdaBoost','DecisionTree']\n",
    "accuracy = [8525, -4635, 20725, 13050]\n",
    "ax = plt.subplot()\n",
    "plt.gcf().subplots_adjust(left=0.2)\n",
    "ax.barh(range(len(names)), accuracy, 1/1.5, alpha = 0.4, color = ['g', 'r','g','g'])\n",
    "ax.set_xlim([-5000, 25000])\n",
    "plt.yticks(range(len(names)), names)\n",
    "plt.title('Profit, у.е.')\n",
    "for i, v in enumerate(accuracy):\n",
    "    ax.text(v + 300, i , str(v), color='black', fontweight='bold')\n",
    "plt.savefig('foo.png')"
   ]
  },
  {
   "cell_type": "code",
   "execution_count": 94,
   "metadata": {
    "collapsed": false
   },
   "outputs": [
    {
     "data": {
      "image/png": "[encoded data removed]",
      "text/plain": [
       "<matplotlib.figure.Figure at 0x10ff05b00>"
      ]
     },
     "metadata": {},
     "output_type": "display_data"
    }
   ],
   "source": [
    "names = ['RandomForest', 'SVM', 'AdaBoost','DecisionTree']\n",
    "accuracy = [37200, -4635, 20725, 13050]\n",
    "ax = plt.subplot()\n",
    "plt.gcf().subplots_adjust(left=0.2)\n",
    "ax.barh(range(len(names)), accuracy, 1/1.5, alpha = 0.4, color = ['g', 'r','g','g'])\n",
    "ax.set_xlim([-5000, 45000])\n",
    "plt.yticks(range(len(names)), names)\n",
    "plt.title('Profit, у.е.')\n",
    "for i, v in enumerate(accuracy):\n",
    "    ax.text(v + 300, i , str(v), color='black', fontweight='bold')\n",
    "plt.savefig('foo.png')"
   ]
  }
 ],
 "metadata": {
  "kernelspec": {
   "display_name": "Python 3",
   "language": "python",
   "name": "python3"
  },
  "language_info": {
   "codemirror_mode": {
    "name": "ipython",
    "version": 3
   },
   "file_extension": ".py",
   "mimetype": "text/x-python",
   "name": "python",
   "nbconvert_exporter": "python",
   "pygments_lexer": "ipython3",
   "version": "3.6.0"
  }
 },
 "nbformat": 4,
 "nbformat_minor": 2
}
